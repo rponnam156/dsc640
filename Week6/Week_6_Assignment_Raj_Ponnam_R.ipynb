{
 "cells": [
  {
   "cell_type": "code",
   "execution_count": 3,
   "id": "dc4c2b69",
   "metadata": {},
   "outputs": [
    {
     "data": {
      "text/html": [
       "<style>\n",
       ".list-inline {list-style: none; margin:0; padding: 0}\n",
       ".list-inline>li {display: inline-block}\n",
       ".list-inline>li:not(:last-child)::after {content: \"\\00b7\"; padding: 0 .5ex}\n",
       "</style>\n",
       "<ol class=list-inline><li>'Country'</li><li>'X1960'</li><li>'X1961'</li><li>'X1962'</li><li>'X1963'</li><li>'X1964'</li><li>'X1965'</li><li>'X1966'</li><li>'X1967'</li><li>'X1968'</li><li>'X1969'</li><li>'X1970'</li><li>'X1971'</li><li>'X1972'</li><li>'X1973'</li><li>'X1974'</li><li>'X1975'</li><li>'X1976'</li><li>'X1977'</li><li>'X1978'</li><li>'X1979'</li><li>'X1980'</li><li>'X1981'</li><li>'X1982'</li><li>'X1983'</li><li>'X1984'</li><li>'X1985'</li><li>'X1986'</li><li>'X1987'</li><li>'X1988'</li><li>'X1989'</li><li>'X1990'</li><li>'X1991'</li><li>'X1992'</li><li>'X1993'</li><li>'X1994'</li><li>'X1995'</li><li>'X1996'</li><li>'X1997'</li><li>'X1998'</li><li>'X1999'</li><li>'X2000'</li><li>'X2001'</li><li>'X2002'</li><li>'X2003'</li><li>'X2004'</li><li>'X2005'</li><li>'X2006'</li><li>'X2007'</li><li>'X2008'</li></ol>\n"
      ],
      "text/latex": [
       "\\begin{enumerate*}\n",
       "\\item 'Country'\n",
       "\\item 'X1960'\n",
       "\\item 'X1961'\n",
       "\\item 'X1962'\n",
       "\\item 'X1963'\n",
       "\\item 'X1964'\n",
       "\\item 'X1965'\n",
       "\\item 'X1966'\n",
       "\\item 'X1967'\n",
       "\\item 'X1968'\n",
       "\\item 'X1969'\n",
       "\\item 'X1970'\n",
       "\\item 'X1971'\n",
       "\\item 'X1972'\n",
       "\\item 'X1973'\n",
       "\\item 'X1974'\n",
       "\\item 'X1975'\n",
       "\\item 'X1976'\n",
       "\\item 'X1977'\n",
       "\\item 'X1978'\n",
       "\\item 'X1979'\n",
       "\\item 'X1980'\n",
       "\\item 'X1981'\n",
       "\\item 'X1982'\n",
       "\\item 'X1983'\n",
       "\\item 'X1984'\n",
       "\\item 'X1985'\n",
       "\\item 'X1986'\n",
       "\\item 'X1987'\n",
       "\\item 'X1988'\n",
       "\\item 'X1989'\n",
       "\\item 'X1990'\n",
       "\\item 'X1991'\n",
       "\\item 'X1992'\n",
       "\\item 'X1993'\n",
       "\\item 'X1994'\n",
       "\\item 'X1995'\n",
       "\\item 'X1996'\n",
       "\\item 'X1997'\n",
       "\\item 'X1998'\n",
       "\\item 'X1999'\n",
       "\\item 'X2000'\n",
       "\\item 'X2001'\n",
       "\\item 'X2002'\n",
       "\\item 'X2003'\n",
       "\\item 'X2004'\n",
       "\\item 'X2005'\n",
       "\\item 'X2006'\n",
       "\\item 'X2007'\n",
       "\\item 'X2008'\n",
       "\\end{enumerate*}\n"
      ],
      "text/markdown": [
       "1. 'Country'\n",
       "2. 'X1960'\n",
       "3. 'X1961'\n",
       "4. 'X1962'\n",
       "5. 'X1963'\n",
       "6. 'X1964'\n",
       "7. 'X1965'\n",
       "8. 'X1966'\n",
       "9. 'X1967'\n",
       "10. 'X1968'\n",
       "11. 'X1969'\n",
       "12. 'X1970'\n",
       "13. 'X1971'\n",
       "14. 'X1972'\n",
       "15. 'X1973'\n",
       "16. 'X1974'\n",
       "17. 'X1975'\n",
       "18. 'X1976'\n",
       "19. 'X1977'\n",
       "20. 'X1978'\n",
       "21. 'X1979'\n",
       "22. 'X1980'\n",
       "23. 'X1981'\n",
       "24. 'X1982'\n",
       "25. 'X1983'\n",
       "26. 'X1984'\n",
       "27. 'X1985'\n",
       "28. 'X1986'\n",
       "29. 'X1987'\n",
       "30. 'X1988'\n",
       "31. 'X1989'\n",
       "32. 'X1990'\n",
       "33. 'X1991'\n",
       "34. 'X1992'\n",
       "35. 'X1993'\n",
       "36. 'X1994'\n",
       "37. 'X1995'\n",
       "38. 'X1996'\n",
       "39. 'X1997'\n",
       "40. 'X1998'\n",
       "41. 'X1999'\n",
       "42. 'X2000'\n",
       "43. 'X2001'\n",
       "44. 'X2002'\n",
       "45. 'X2003'\n",
       "46. 'X2004'\n",
       "47. 'X2005'\n",
       "48. 'X2006'\n",
       "49. 'X2007'\n",
       "50. 'X2008'\n",
       "\n",
       "\n"
      ],
      "text/plain": [
       " [1] \"Country\" \"X1960\"   \"X1961\"   \"X1962\"   \"X1963\"   \"X1964\"   \"X1965\"  \n",
       " [8] \"X1966\"   \"X1967\"   \"X1968\"   \"X1969\"   \"X1970\"   \"X1971\"   \"X1972\"  \n",
       "[15] \"X1973\"   \"X1974\"   \"X1975\"   \"X1976\"   \"X1977\"   \"X1978\"   \"X1979\"  \n",
       "[22] \"X1980\"   \"X1981\"   \"X1982\"   \"X1983\"   \"X1984\"   \"X1985\"   \"X1986\"  \n",
       "[29] \"X1987\"   \"X1988\"   \"X1989\"   \"X1990\"   \"X1991\"   \"X1992\"   \"X1993\"  \n",
       "[36] \"X1994\"   \"X1995\"   \"X1996\"   \"X1997\"   \"X1998\"   \"X1999\"   \"X2000\"  \n",
       "[43] \"X2001\"   \"X2002\"   \"X2003\"   \"X2004\"   \"X2005\"   \"X2006\"   \"X2007\"  \n",
       "[50] \"X2008\"  "
      ]
     },
     "metadata": {},
     "output_type": "display_data"
    }
   ],
   "source": [
    "library('magrittr')\n",
    "\n",
    "birthrate <- read.csv('/Users/rajponnam/Documents/ds_course/dsc640/Week6/ex6-2/birth-rate.csv')\n",
    "\n",
    "crimeratesbystate <- read.csv('/Users/rajponnam/Documents/ds_course/dsc640/Week6/ex6-2/crimeratesbystate-formatted.csv') \n",
    "\n",
    "education <- read.csv('/Users/rajponnam/Documents/ds_course/dsc640/Week6/ex6-2/education.csv') \n",
    "\n",
    "colnames(birthrate)"
   ]
  },
  {
   "cell_type": "code",
   "execution_count": 4,
   "id": "9a0140e9",
   "metadata": {},
   "outputs": [
    {
     "data": {
      "text/html": [
       "<style>\n",
       ".list-inline {list-style: none; margin:0; padding: 0}\n",
       ".list-inline>li {display: inline-block}\n",
       ".list-inline>li:not(:last-child)::after {content: \"\\00b7\"; padding: 0 .5ex}\n",
       "</style>\n",
       "<ol class=list-inline><li>'state'</li><li>'murder'</li><li>'forcible_rape'</li><li>'robbery'</li><li>'aggravated_assault'</li><li>'burglary'</li><li>'larceny_theft'</li><li>'motor_vehicle_theft'</li></ol>\n"
      ],
      "text/latex": [
       "\\begin{enumerate*}\n",
       "\\item 'state'\n",
       "\\item 'murder'\n",
       "\\item 'forcible\\_rape'\n",
       "\\item 'robbery'\n",
       "\\item 'aggravated\\_assault'\n",
       "\\item 'burglary'\n",
       "\\item 'larceny\\_theft'\n",
       "\\item 'motor\\_vehicle\\_theft'\n",
       "\\end{enumerate*}\n"
      ],
      "text/markdown": [
       "1. 'state'\n",
       "2. 'murder'\n",
       "3. 'forcible_rape'\n",
       "4. 'robbery'\n",
       "5. 'aggravated_assault'\n",
       "6. 'burglary'\n",
       "7. 'larceny_theft'\n",
       "8. 'motor_vehicle_theft'\n",
       "\n",
       "\n"
      ],
      "text/plain": [
       "[1] \"state\"               \"murder\"              \"forcible_rape\"      \n",
       "[4] \"robbery\"             \"aggravated_assault\"  \"burglary\"           \n",
       "[7] \"larceny_theft\"       \"motor_vehicle_theft\""
      ]
     },
     "metadata": {},
     "output_type": "display_data"
    }
   ],
   "source": [
    "colnames(crimeratesbystate)"
   ]
  },
  {
   "cell_type": "code",
   "execution_count": 5,
   "id": "d1f329da",
   "metadata": {},
   "outputs": [
    {
     "data": {
      "text/html": [
       "<style>\n",
       ".list-inline {list-style: none; margin:0; padding: 0}\n",
       ".list-inline>li {display: inline-block}\n",
       ".list-inline>li:not(:last-child)::after {content: \"\\00b7\"; padding: 0 .5ex}\n",
       "</style>\n",
       "<ol class=list-inline><li>'state'</li><li>'reading'</li><li>'math'</li><li>'writing'</li><li>'percent_graduates_sat'</li><li>'pupil_staff_ratio'</li><li>'dropout_rate'</li></ol>\n"
      ],
      "text/latex": [
       "\\begin{enumerate*}\n",
       "\\item 'state'\n",
       "\\item 'reading'\n",
       "\\item 'math'\n",
       "\\item 'writing'\n",
       "\\item 'percent\\_graduates\\_sat'\n",
       "\\item 'pupil\\_staff\\_ratio'\n",
       "\\item 'dropout\\_rate'\n",
       "\\end{enumerate*}\n"
      ],
      "text/markdown": [
       "1. 'state'\n",
       "2. 'reading'\n",
       "3. 'math'\n",
       "4. 'writing'\n",
       "5. 'percent_graduates_sat'\n",
       "6. 'pupil_staff_ratio'\n",
       "7. 'dropout_rate'\n",
       "\n",
       "\n"
      ],
      "text/plain": [
       "[1] \"state\"                 \"reading\"               \"math\"                 \n",
       "[4] \"writing\"               \"percent_graduates_sat\" \"pupil_staff_ratio\"    \n",
       "[7] \"dropout_rate\"         "
      ]
     },
     "metadata": {},
     "output_type": "display_data"
    }
   ],
   "source": [
    "colnames(education)"
   ]
  },
  {
   "cell_type": "code",
   "execution_count": 6,
   "id": "7623091e",
   "metadata": {},
   "outputs": [
    {
     "data": {
      "text/html": [
       "<style>\n",
       ".list-inline {list-style: none; margin:0; padding: 0}\n",
       ".list-inline>li {display: inline-block}\n",
       ".list-inline>li:not(:last-child)::after {content: \"\\00b7\"; padding: 0 .5ex}\n",
       "</style>\n",
       "<ol class=list-inline><li>'Country'</li><li>'1960'</li><li>'1961'</li><li>'1962'</li><li>'1963'</li><li>'1964'</li><li>'1965'</li><li>'1966'</li><li>'1967'</li><li>'1968'</li><li>'1969'</li><li>'1970'</li><li>'1971'</li><li>'1972'</li><li>'1973'</li><li>'1974'</li><li>'1975'</li><li>'1976'</li><li>'1977'</li><li>'1978'</li><li>'1979'</li><li>'1980'</li><li>'1981'</li><li>'1982'</li><li>'1983'</li><li>'1984'</li><li>'1985'</li><li>'1986'</li><li>'1987'</li><li>'1988'</li><li>'1989'</li><li>'1990'</li><li>'1991'</li><li>'1992'</li><li>'1993'</li><li>'1994'</li><li>'1995'</li><li>'1996'</li><li>'1997'</li><li>'1998'</li><li>'1999'</li><li>'2000'</li><li>'2001'</li><li>'2002'</li><li>'2003'</li><li>'2004'</li><li>'2005'</li><li>'2006'</li><li>'2007'</li><li>'2008'</li></ol>\n"
      ],
      "text/latex": [
       "\\begin{enumerate*}\n",
       "\\item 'Country'\n",
       "\\item '1960'\n",
       "\\item '1961'\n",
       "\\item '1962'\n",
       "\\item '1963'\n",
       "\\item '1964'\n",
       "\\item '1965'\n",
       "\\item '1966'\n",
       "\\item '1967'\n",
       "\\item '1968'\n",
       "\\item '1969'\n",
       "\\item '1970'\n",
       "\\item '1971'\n",
       "\\item '1972'\n",
       "\\item '1973'\n",
       "\\item '1974'\n",
       "\\item '1975'\n",
       "\\item '1976'\n",
       "\\item '1977'\n",
       "\\item '1978'\n",
       "\\item '1979'\n",
       "\\item '1980'\n",
       "\\item '1981'\n",
       "\\item '1982'\n",
       "\\item '1983'\n",
       "\\item '1984'\n",
       "\\item '1985'\n",
       "\\item '1986'\n",
       "\\item '1987'\n",
       "\\item '1988'\n",
       "\\item '1989'\n",
       "\\item '1990'\n",
       "\\item '1991'\n",
       "\\item '1992'\n",
       "\\item '1993'\n",
       "\\item '1994'\n",
       "\\item '1995'\n",
       "\\item '1996'\n",
       "\\item '1997'\n",
       "\\item '1998'\n",
       "\\item '1999'\n",
       "\\item '2000'\n",
       "\\item '2001'\n",
       "\\item '2002'\n",
       "\\item '2003'\n",
       "\\item '2004'\n",
       "\\item '2005'\n",
       "\\item '2006'\n",
       "\\item '2007'\n",
       "\\item '2008'\n",
       "\\end{enumerate*}\n"
      ],
      "text/markdown": [
       "1. 'Country'\n",
       "2. '1960'\n",
       "3. '1961'\n",
       "4. '1962'\n",
       "5. '1963'\n",
       "6. '1964'\n",
       "7. '1965'\n",
       "8. '1966'\n",
       "9. '1967'\n",
       "10. '1968'\n",
       "11. '1969'\n",
       "12. '1970'\n",
       "13. '1971'\n",
       "14. '1972'\n",
       "15. '1973'\n",
       "16. '1974'\n",
       "17. '1975'\n",
       "18. '1976'\n",
       "19. '1977'\n",
       "20. '1978'\n",
       "21. '1979'\n",
       "22. '1980'\n",
       "23. '1981'\n",
       "24. '1982'\n",
       "25. '1983'\n",
       "26. '1984'\n",
       "27. '1985'\n",
       "28. '1986'\n",
       "29. '1987'\n",
       "30. '1988'\n",
       "31. '1989'\n",
       "32. '1990'\n",
       "33. '1991'\n",
       "34. '1992'\n",
       "35. '1993'\n",
       "36. '1994'\n",
       "37. '1995'\n",
       "38. '1996'\n",
       "39. '1997'\n",
       "40. '1998'\n",
       "41. '1999'\n",
       "42. '2000'\n",
       "43. '2001'\n",
       "44. '2002'\n",
       "45. '2003'\n",
       "46. '2004'\n",
       "47. '2005'\n",
       "48. '2006'\n",
       "49. '2007'\n",
       "50. '2008'\n",
       "\n",
       "\n"
      ],
      "text/plain": [
       " [1] \"Country\" \"1960\"    \"1961\"    \"1962\"    \"1963\"    \"1964\"    \"1965\"   \n",
       " [8] \"1966\"    \"1967\"    \"1968\"    \"1969\"    \"1970\"    \"1971\"    \"1972\"   \n",
       "[15] \"1973\"    \"1974\"    \"1975\"    \"1976\"    \"1977\"    \"1978\"    \"1979\"   \n",
       "[22] \"1980\"    \"1981\"    \"1982\"    \"1983\"    \"1984\"    \"1985\"    \"1986\"   \n",
       "[29] \"1987\"    \"1988\"    \"1989\"    \"1990\"    \"1991\"    \"1992\"    \"1993\"   \n",
       "[36] \"1994\"    \"1995\"    \"1996\"    \"1997\"    \"1998\"    \"1999\"    \"2000\"   \n",
       "[43] \"2001\"    \"2002\"    \"2003\"    \"2004\"    \"2005\"    \"2006\"    \"2007\"   \n",
       "[50] \"2008\"   "
      ]
     },
     "metadata": {},
     "output_type": "display_data"
    }
   ],
   "source": [
    "colnames(birthrate) <- gsub(\"X\", \"\", colnames(birthrate))\n",
    "\n",
    "colnames(birthrate)"
   ]
  },
  {
   "cell_type": "markdown",
   "id": "bd38eddb",
   "metadata": {},
   "source": [
    "# Histogram"
   ]
  },
  {
   "cell_type": "code",
   "execution_count": 16,
   "id": "f9f807a7",
   "metadata": {},
   "outputs": [
    {
     "data": {
      "image/png": "[encoded data removed]",
      "text/plain": [
       "Plot with title “”"
      ]
     },
     "metadata": {
      "image/png": {
       "height": 300,
       "width": 300
      }
     },
     "output_type": "display_data"
    }
   ],
   "source": [
    "options(repr.plot.width = 5, repr.plot.height = 5)\n",
    "\n",
    "birthrate_hist <- reshape2::melt(birthrate, id=c(\"Country\")) %>%\n",
    "  dplyr::mutate(\"Country\" = as.character(Country),\n",
    "                \"Year\" = as.character(variable),\n",
    "                \"Population\" = value,\n",
    "                \"Population_int\" = ceiling(value)) %>% \n",
    "  dplyr::select(c(\"Country\",\"Year\",\"Population\", \"Population_int\"))\n",
    "\n",
    "hist(birthrate_hist$Population_int, col=rgb(0.7,0.10,0.12,0.6) , border=F , main=\"\")"
   ]
  },
  {
   "cell_type": "markdown",
   "id": "9e74c78b",
   "metadata": {},
   "source": [
    "# Box plot"
   ]
  },
  {
   "cell_type": "code",
   "execution_count": 18,
   "id": "66a7ac96",
   "metadata": {},
   "outputs": [],
   "source": [
    "birthrate_box <- birthrate_hist %>% \n",
    "  dplyr::filter(Country %in% c(\"United States\", \"Aruba\"))"
   ]
  },
  {
   "cell_type": "code",
   "execution_count": 21,
   "id": "ae03294c",
   "metadata": {},
   "outputs": [
    {
     "data": {
      "text/html": [
       "<table class=\"dataframe\">\n",
       "<caption>A data.frame: 98 × 4</caption>\n",
       "<thead>\n",
       "\t<tr><th scope=col>Country</th><th scope=col>Year</th><th scope=col>Population</th><th scope=col>Population_int</th></tr>\n",
       "\t<tr><th scope=col>&lt;chr&gt;</th><th scope=col>&lt;chr&gt;</th><th scope=col>&lt;dbl&gt;</th><th scope=col>&lt;dbl&gt;</th></tr>\n",
       "</thead>\n",
       "<tbody>\n",
       "\t<tr><td>Aruba        </td><td>1960</td><td>36.400</td><td>37</td></tr>\n",
       "\t<tr><td>United States</td><td>1960</td><td>23.700</td><td>24</td></tr>\n",
       "\t<tr><td>Aruba        </td><td>1961</td><td>35.179</td><td>36</td></tr>\n",
       "\t<tr><td>United States</td><td>1961</td><td>23.300</td><td>24</td></tr>\n",
       "\t<tr><td>Aruba        </td><td>1962</td><td>33.863</td><td>34</td></tr>\n",
       "\t<tr><td>United States</td><td>1962</td><td>22.400</td><td>23</td></tr>\n",
       "\t<tr><td>Aruba        </td><td>1963</td><td>32.459</td><td>33</td></tr>\n",
       "\t<tr><td>United States</td><td>1963</td><td>21.700</td><td>22</td></tr>\n",
       "\t<tr><td>Aruba        </td><td>1964</td><td>30.994</td><td>31</td></tr>\n",
       "\t<tr><td>United States</td><td>1964</td><td>21.100</td><td>22</td></tr>\n",
       "\t<tr><td>Aruba        </td><td>1965</td><td>29.513</td><td>30</td></tr>\n",
       "\t<tr><td>United States</td><td>1965</td><td>19.400</td><td>20</td></tr>\n",
       "\t<tr><td>Aruba        </td><td>1966</td><td>28.069</td><td>29</td></tr>\n",
       "\t<tr><td>United States</td><td>1966</td><td>18.400</td><td>19</td></tr>\n",
       "\t<tr><td>Aruba        </td><td>1967</td><td>26.721</td><td>27</td></tr>\n",
       "\t<tr><td>United States</td><td>1967</td><td>17.800</td><td>18</td></tr>\n",
       "\t<tr><td>Aruba        </td><td>1968</td><td>25.518</td><td>26</td></tr>\n",
       "\t<tr><td>United States</td><td>1968</td><td>17.600</td><td>18</td></tr>\n",
       "\t<tr><td>Aruba        </td><td>1969</td><td>24.492</td><td>25</td></tr>\n",
       "\t<tr><td>United States</td><td>1969</td><td>17.900</td><td>18</td></tr>\n",
       "\t<tr><td>Aruba        </td><td>1970</td><td>23.669</td><td>24</td></tr>\n",
       "\t<tr><td>United States</td><td>1970</td><td>18.400</td><td>19</td></tr>\n",
       "\t<tr><td>Aruba        </td><td>1971</td><td>23.058</td><td>24</td></tr>\n",
       "\t<tr><td>United States</td><td>1971</td><td>17.200</td><td>18</td></tr>\n",
       "\t<tr><td>Aruba        </td><td>1972</td><td>22.627</td><td>23</td></tr>\n",
       "\t<tr><td>United States</td><td>1972</td><td>15.600</td><td>16</td></tr>\n",
       "\t<tr><td>Aruba        </td><td>1973</td><td>22.342</td><td>23</td></tr>\n",
       "\t<tr><td>United States</td><td>1973</td><td>14.800</td><td>15</td></tr>\n",
       "\t<tr><td>Aruba        </td><td>1974</td><td>22.177</td><td>23</td></tr>\n",
       "\t<tr><td>United States</td><td>1974</td><td>14.800</td><td>15</td></tr>\n",
       "\t<tr><td>⋮</td><td>⋮</td><td>⋮</td><td>⋮</td></tr>\n",
       "\t<tr><td>Aruba        </td><td>1994</td><td>17.36700</td><td>18</td></tr>\n",
       "\t<tr><td>United States</td><td>1994</td><td>15.20000</td><td>16</td></tr>\n",
       "\t<tr><td>Aruba        </td><td>1995</td><td>16.91100</td><td>17</td></tr>\n",
       "\t<tr><td>United States</td><td>1995</td><td>14.80000</td><td>15</td></tr>\n",
       "\t<tr><td>Aruba        </td><td>1996</td><td>16.45700</td><td>17</td></tr>\n",
       "\t<tr><td>United States</td><td>1996</td><td>14.80000</td><td>15</td></tr>\n",
       "\t<tr><td>Aruba        </td><td>1997</td><td>15.99400</td><td>16</td></tr>\n",
       "\t<tr><td>United States</td><td>1997</td><td>14.60000</td><td>15</td></tr>\n",
       "\t<tr><td>Aruba        </td><td>1998</td><td>15.51500</td><td>16</td></tr>\n",
       "\t<tr><td>United States</td><td>1998</td><td>14.60000</td><td>15</td></tr>\n",
       "\t<tr><td>Aruba        </td><td>1999</td><td>15.02400</td><td>16</td></tr>\n",
       "\t<tr><td>United States</td><td>1999</td><td>14.50000</td><td>15</td></tr>\n",
       "\t<tr><td>Aruba        </td><td>2000</td><td>14.52800</td><td>15</td></tr>\n",
       "\t<tr><td>United States</td><td>2000</td><td>14.70000</td><td>15</td></tr>\n",
       "\t<tr><td>Aruba        </td><td>2001</td><td>14.04100</td><td>15</td></tr>\n",
       "\t<tr><td>United States</td><td>2001</td><td>14.10000</td><td>15</td></tr>\n",
       "\t<tr><td>Aruba        </td><td>2002</td><td>13.57900</td><td>14</td></tr>\n",
       "\t<tr><td>United States</td><td>2002</td><td>13.90000</td><td>14</td></tr>\n",
       "\t<tr><td>Aruba        </td><td>2003</td><td>13.15300</td><td>14</td></tr>\n",
       "\t<tr><td>United States</td><td>2003</td><td>14.14000</td><td>15</td></tr>\n",
       "\t<tr><td>Aruba        </td><td>2004</td><td>12.77200</td><td>13</td></tr>\n",
       "\t<tr><td>United States</td><td>2004</td><td>14.13000</td><td>15</td></tr>\n",
       "\t<tr><td>Aruba        </td><td>2005</td><td>12.44100</td><td>13</td></tr>\n",
       "\t<tr><td>United States</td><td>2005</td><td>14.00000</td><td>14</td></tr>\n",
       "\t<tr><td>Aruba        </td><td>2006</td><td>12.15900</td><td>13</td></tr>\n",
       "\t<tr><td>United States</td><td>2006</td><td>14.20000</td><td>15</td></tr>\n",
       "\t<tr><td>Aruba        </td><td>2007</td><td>11.91900</td><td>12</td></tr>\n",
       "\t<tr><td>United States</td><td>2007</td><td>14.25406</td><td>15</td></tr>\n",
       "\t<tr><td>Aruba        </td><td>2008</td><td>11.71600</td><td>12</td></tr>\n",
       "\t<tr><td>United States</td><td>2008</td><td>14.30096</td><td>15</td></tr>\n",
       "</tbody>\n",
       "</table>\n"
      ],
      "text/latex": [
       "A data.frame: 98 × 4\n",
       "\\begin{tabular}{llll}\n",
       " Country & Year & Population & Population\\_int\\\\\n",
       " <chr> & <chr> & <dbl> & <dbl>\\\\\n",
       "\\hline\n",
       "\t Aruba         & 1960 & 36.400 & 37\\\\\n",
       "\t United States & 1960 & 23.700 & 24\\\\\n",
       "\t Aruba         & 1961 & 35.179 & 36\\\\\n",
       "\t United States & 1961 & 23.300 & 24\\\\\n",
       "\t Aruba         & 1962 & 33.863 & 34\\\\\n",
       "\t United States & 1962 & 22.400 & 23\\\\\n",
       "\t Aruba         & 1963 & 32.459 & 33\\\\\n",
       "\t United States & 1963 & 21.700 & 22\\\\\n",
       "\t Aruba         & 1964 & 30.994 & 31\\\\\n",
       "\t United States & 1964 & 21.100 & 22\\\\\n",
       "\t Aruba         & 1965 & 29.513 & 30\\\\\n",
       "\t United States & 1965 & 19.400 & 20\\\\\n",
       "\t Aruba         & 1966 & 28.069 & 29\\\\\n",
       "\t United States & 1966 & 18.400 & 19\\\\\n",
       "\t Aruba         & 1967 & 26.721 & 27\\\\\n",
       "\t United States & 1967 & 17.800 & 18\\\\\n",
       "\t Aruba         & 1968 & 25.518 & 26\\\\\n",
       "\t United States & 1968 & 17.600 & 18\\\\\n",
       "\t Aruba         & 1969 & 24.492 & 25\\\\\n",
       "\t United States & 1969 & 17.900 & 18\\\\\n",
       "\t Aruba         & 1970 & 23.669 & 24\\\\\n",
       "\t United States & 1970 & 18.400 & 19\\\\\n",
       "\t Aruba         & 1971 & 23.058 & 24\\\\\n",
       "\t United States & 1971 & 17.200 & 18\\\\\n",
       "\t Aruba         & 1972 & 22.627 & 23\\\\\n",
       "\t United States & 1972 & 15.600 & 16\\\\\n",
       "\t Aruba         & 1973 & 22.342 & 23\\\\\n",
       "\t United States & 1973 & 14.800 & 15\\\\\n",
       "\t Aruba         & 1974 & 22.177 & 23\\\\\n",
       "\t United States & 1974 & 14.800 & 15\\\\\n",
       "\t ⋮ & ⋮ & ⋮ & ⋮\\\\\n",
       "\t Aruba         & 1994 & 17.36700 & 18\\\\\n",
       "\t United States & 1994 & 15.20000 & 16\\\\\n",
       "\t Aruba         & 1995 & 16.91100 & 17\\\\\n",
       "\t United States & 1995 & 14.80000 & 15\\\\\n",
       "\t Aruba         & 1996 & 16.45700 & 17\\\\\n",
       "\t United States & 1996 & 14.80000 & 15\\\\\n",
       "\t Aruba         & 1997 & 15.99400 & 16\\\\\n",
       "\t United States & 1997 & 14.60000 & 15\\\\\n",
       "\t Aruba         & 1998 & 15.51500 & 16\\\\\n",
       "\t United States & 1998 & 14.60000 & 15\\\\\n",
       "\t Aruba         & 1999 & 15.02400 & 16\\\\\n",
       "\t United States & 1999 & 14.50000 & 15\\\\\n",
       "\t Aruba         & 2000 & 14.52800 & 15\\\\\n",
       "\t United States & 2000 & 14.70000 & 15\\\\\n",
       "\t Aruba         & 2001 & 14.04100 & 15\\\\\n",
       "\t United States & 2001 & 14.10000 & 15\\\\\n",
       "\t Aruba         & 2002 & 13.57900 & 14\\\\\n",
       "\t United States & 2002 & 13.90000 & 14\\\\\n",
       "\t Aruba         & 2003 & 13.15300 & 14\\\\\n",
       "\t United States & 2003 & 14.14000 & 15\\\\\n",
       "\t Aruba         & 2004 & 12.77200 & 13\\\\\n",
       "\t United States & 2004 & 14.13000 & 15\\\\\n",
       "\t Aruba         & 2005 & 12.44100 & 13\\\\\n",
       "\t United States & 2005 & 14.00000 & 14\\\\\n",
       "\t Aruba         & 2006 & 12.15900 & 13\\\\\n",
       "\t United States & 2006 & 14.20000 & 15\\\\\n",
       "\t Aruba         & 2007 & 11.91900 & 12\\\\\n",
       "\t United States & 2007 & 14.25406 & 15\\\\\n",
       "\t Aruba         & 2008 & 11.71600 & 12\\\\\n",
       "\t United States & 2008 & 14.30096 & 15\\\\\n",
       "\\end{tabular}\n"
      ],
      "text/markdown": [
       "\n",
       "A data.frame: 98 × 4\n",
       "\n",
       "| Country &lt;chr&gt; | Year &lt;chr&gt; | Population &lt;dbl&gt; | Population_int &lt;dbl&gt; |\n",
       "|---|---|---|---|\n",
       "| Aruba         | 1960 | 36.400 | 37 |\n",
       "| United States | 1960 | 23.700 | 24 |\n",
       "| Aruba         | 1961 | 35.179 | 36 |\n",
       "| United States | 1961 | 23.300 | 24 |\n",
       "| Aruba         | 1962 | 33.863 | 34 |\n",
       "| United States | 1962 | 22.400 | 23 |\n",
       "| Aruba         | 1963 | 32.459 | 33 |\n",
       "| United States | 1963 | 21.700 | 22 |\n",
       "| Aruba         | 1964 | 30.994 | 31 |\n",
       "| United States | 1964 | 21.100 | 22 |\n",
       "| Aruba         | 1965 | 29.513 | 30 |\n",
       "| United States | 1965 | 19.400 | 20 |\n",
       "| Aruba         | 1966 | 28.069 | 29 |\n",
       "| United States | 1966 | 18.400 | 19 |\n",
       "| Aruba         | 1967 | 26.721 | 27 |\n",
       "| United States | 1967 | 17.800 | 18 |\n",
       "| Aruba         | 1968 | 25.518 | 26 |\n",
       "| United States | 1968 | 17.600 | 18 |\n",
       "| Aruba         | 1969 | 24.492 | 25 |\n",
       "| United States | 1969 | 17.900 | 18 |\n",
       "| Aruba         | 1970 | 23.669 | 24 |\n",
       "| United States | 1970 | 18.400 | 19 |\n",
       "| Aruba         | 1971 | 23.058 | 24 |\n",
       "| United States | 1971 | 17.200 | 18 |\n",
       "| Aruba         | 1972 | 22.627 | 23 |\n",
       "| United States | 1972 | 15.600 | 16 |\n",
       "| Aruba         | 1973 | 22.342 | 23 |\n",
       "| United States | 1973 | 14.800 | 15 |\n",
       "| Aruba         | 1974 | 22.177 | 23 |\n",
       "| United States | 1974 | 14.800 | 15 |\n",
       "| ⋮ | ⋮ | ⋮ | ⋮ |\n",
       "| Aruba         | 1994 | 17.36700 | 18 |\n",
       "| United States | 1994 | 15.20000 | 16 |\n",
       "| Aruba         | 1995 | 16.91100 | 17 |\n",
       "| United States | 1995 | 14.80000 | 15 |\n",
       "| Aruba         | 1996 | 16.45700 | 17 |\n",
       "| United States | 1996 | 14.80000 | 15 |\n",
       "| Aruba         | 1997 | 15.99400 | 16 |\n",
       "| United States | 1997 | 14.60000 | 15 |\n",
       "| Aruba         | 1998 | 15.51500 | 16 |\n",
       "| United States | 1998 | 14.60000 | 15 |\n",
       "| Aruba         | 1999 | 15.02400 | 16 |\n",
       "| United States | 1999 | 14.50000 | 15 |\n",
       "| Aruba         | 2000 | 14.52800 | 15 |\n",
       "| United States | 2000 | 14.70000 | 15 |\n",
       "| Aruba         | 2001 | 14.04100 | 15 |\n",
       "| United States | 2001 | 14.10000 | 15 |\n",
       "| Aruba         | 2002 | 13.57900 | 14 |\n",
       "| United States | 2002 | 13.90000 | 14 |\n",
       "| Aruba         | 2003 | 13.15300 | 14 |\n",
       "| United States | 2003 | 14.14000 | 15 |\n",
       "| Aruba         | 2004 | 12.77200 | 13 |\n",
       "| United States | 2004 | 14.13000 | 15 |\n",
       "| Aruba         | 2005 | 12.44100 | 13 |\n",
       "| United States | 2005 | 14.00000 | 14 |\n",
       "| Aruba         | 2006 | 12.15900 | 13 |\n",
       "| United States | 2006 | 14.20000 | 15 |\n",
       "| Aruba         | 2007 | 11.91900 | 12 |\n",
       "| United States | 2007 | 14.25406 | 15 |\n",
       "| Aruba         | 2008 | 11.71600 | 12 |\n",
       "| United States | 2008 | 14.30096 | 15 |\n",
       "\n"
      ],
      "text/plain": [
       "   Country       Year Population Population_int\n",
       "1  Aruba         1960 36.400     37            \n",
       "2  United States 1960 23.700     24            \n",
       "3  Aruba         1961 35.179     36            \n",
       "4  United States 1961 23.300     24            \n",
       "5  Aruba         1962 33.863     34            \n",
       "6  United States 1962 22.400     23            \n",
       "7  Aruba         1963 32.459     33            \n",
       "8  United States 1963 21.700     22            \n",
       "9  Aruba         1964 30.994     31            \n",
       "10 United States 1964 21.100     22            \n",
       "11 Aruba         1965 29.513     30            \n",
       "12 United States 1965 19.400     20            \n",
       "13 Aruba         1966 28.069     29            \n",
       "14 United States 1966 18.400     19            \n",
       "15 Aruba         1967 26.721     27            \n",
       "16 United States 1967 17.800     18            \n",
       "17 Aruba         1968 25.518     26            \n",
       "18 United States 1968 17.600     18            \n",
       "19 Aruba         1969 24.492     25            \n",
       "20 United States 1969 17.900     18            \n",
       "21 Aruba         1970 23.669     24            \n",
       "22 United States 1970 18.400     19            \n",
       "23 Aruba         1971 23.058     24            \n",
       "24 United States 1971 17.200     18            \n",
       "25 Aruba         1972 22.627     23            \n",
       "26 United States 1972 15.600     16            \n",
       "27 Aruba         1973 22.342     23            \n",
       "28 United States 1973 14.800     15            \n",
       "29 Aruba         1974 22.177     23            \n",
       "30 United States 1974 14.800     15            \n",
       "⋮  ⋮             ⋮    ⋮          ⋮             \n",
       "69 Aruba         1994 17.36700   18            \n",
       "70 United States 1994 15.20000   16            \n",
       "71 Aruba         1995 16.91100   17            \n",
       "72 United States 1995 14.80000   15            \n",
       "73 Aruba         1996 16.45700   17            \n",
       "74 United States 1996 14.80000   15            \n",
       "75 Aruba         1997 15.99400   16            \n",
       "76 United States 1997 14.60000   15            \n",
       "77 Aruba         1998 15.51500   16            \n",
       "78 United States 1998 14.60000   15            \n",
       "79 Aruba         1999 15.02400   16            \n",
       "80 United States 1999 14.50000   15            \n",
       "81 Aruba         2000 14.52800   15            \n",
       "82 United States 2000 14.70000   15            \n",
       "83 Aruba         2001 14.04100   15            \n",
       "84 United States 2001 14.10000   15            \n",
       "85 Aruba         2002 13.57900   14            \n",
       "86 United States 2002 13.90000   14            \n",
       "87 Aruba         2003 13.15300   14            \n",
       "88 United States 2003 14.14000   15            \n",
       "89 Aruba         2004 12.77200   13            \n",
       "90 United States 2004 14.13000   15            \n",
       "91 Aruba         2005 12.44100   13            \n",
       "92 United States 2005 14.00000   14            \n",
       "93 Aruba         2006 12.15900   13            \n",
       "94 United States 2006 14.20000   15            \n",
       "95 Aruba         2007 11.91900   12            \n",
       "96 United States 2007 14.25406   15            \n",
       "97 Aruba         2008 11.71600   12            \n",
       "98 United States 2008 14.30096   15            "
      ]
     },
     "metadata": {},
     "output_type": "display_data"
    }
   ],
   "source": [
    "birthrate_box"
   ]
  },
  {
   "cell_type": "markdown",
   "id": "4896261b",
   "metadata": {},
   "source": [
    "# Box Plot"
   ]
  },
  {
   "cell_type": "code",
   "execution_count": 37,
   "id": "8d735d6e",
   "metadata": {},
   "outputs": [
    {
     "data": {
      "image/png": "[encoded data removed]",
      "text/plain": [
       "plot without title"
      ]
     },
     "metadata": {
      "image/png": {
       "height": 300,
       "width": 300
      }
     },
     "output_type": "display_data"
    }
   ],
   "source": [
    "birthrate_box <- birthrate_hist %>%\n",
    "dplyr::filter(Country %in% c(\"United States\", \"India\"))\n",
    "boxplot(birthrate_box$Population ~ birthrate_box$Country , col=\"grey\")"
   ]
  },
  {
   "cell_type": "markdown",
   "id": "af3d93c7",
   "metadata": {},
   "source": [
    "# Bullet Chart"
   ]
  },
  {
   "cell_type": "code",
   "execution_count": 36,
   "id": "8526af2f",
   "metadata": {},
   "outputs": [],
   "source": [
    "source(\"/Users/rajponnam/Documents/ds_course/dsc640/Week6/BulletGraph.R\", local=TRUE)"
   ]
  },
  {
   "cell_type": "code",
   "execution_count": 41,
   "id": "8d9fd948",
   "metadata": {},
   "outputs": [
    {
     "data": {
      "image/png": "[encoded data removed]",
      "text/plain": [
       "plot without title"
      ]
     },
     "metadata": {
      "image/png": {
       "height": 300,
       "width": 300
      }
     },
     "output_type": "display_data"
    }
   ],
   "source": [
    "crimeratesbystate <- crimeratesbystate %>%\n",
    "dplyr::filter(stringr::str_trim(state, \"both\") == \"United States\") %>%\n",
    "dplyr::select(c(state, burglary))\n",
    "bulletgraph(x=crimeratesbystate$burglary,ref=650,limits=c(0,600,950,1100),\n",
    "name= \"USA Crime metrics\",subname=\"Burglary\",\n",
    "col=\"steelblue4\",shades=\"firebrick\")"
   ]
  },
  {
   "cell_type": "markdown",
   "id": "3308f350",
   "metadata": {},
   "source": [
    "# Donut Chart"
   ]
  },
  {
   "cell_type": "code",
   "execution_count": 47,
   "id": "e9ca0d77",
   "metadata": {},
   "outputs": [],
   "source": [
    "education_donut <- education %>% \n",
    "  dplyr::filter(stringr::str_trim(state, \"both\") == \"United States\") %>% \n",
    "  reshape2::melt(id=c(\"state\")) %>% \n",
    "  dplyr::rename(\"category\" = variable) %>% \n",
    "  dplyr::filter(category %in% c(\"reading\",\"math\",\"writing\")) %>% \n",
    "  dplyr::select(-state)\n"
   ]
  },
  {
   "cell_type": "code",
   "execution_count": 50,
   "id": "f57b1d33",
   "metadata": {},
   "outputs": [
    {
     "data": {
      "text/html": [
       "<table class=\"dataframe\">\n",
       "<caption>A data.frame: 3 × 3</caption>\n",
       "<thead>\n",
       "\t<tr><th></th><th scope=col>category</th><th scope=col>value</th><th scope=col>fraction</th></tr>\n",
       "\t<tr><th></th><th scope=col>&lt;fct&gt;</th><th scope=col>&lt;dbl&gt;</th><th scope=col>&lt;dbl&gt;</th></tr>\n",
       "</thead>\n",
       "<tbody>\n",
       "\t<tr><th scope=row>3</th><td>writing</td><td>493</td><td>0.3267064</td></tr>\n",
       "\t<tr><th scope=row>1</th><td>reading</td><td>501</td><td>0.3320080</td></tr>\n",
       "\t<tr><th scope=row>2</th><td>math   </td><td>515</td><td>0.3412856</td></tr>\n",
       "</tbody>\n",
       "</table>\n"
      ],
      "text/latex": [
       "A data.frame: 3 × 3\n",
       "\\begin{tabular}{r|lll}\n",
       "  & category & value & fraction\\\\\n",
       "  & <fct> & <dbl> & <dbl>\\\\\n",
       "\\hline\n",
       "\t3 & writing & 493 & 0.3267064\\\\\n",
       "\t1 & reading & 501 & 0.3320080\\\\\n",
       "\t2 & math    & 515 & 0.3412856\\\\\n",
       "\\end{tabular}\n"
      ],
      "text/markdown": [
       "\n",
       "A data.frame: 3 × 3\n",
       "\n",
       "| <!--/--> | category &lt;fct&gt; | value &lt;dbl&gt; | fraction &lt;dbl&gt; |\n",
       "|---|---|---|---|\n",
       "| 3 | writing | 493 | 0.3267064 |\n",
       "| 1 | reading | 501 | 0.3320080 |\n",
       "| 2 | math    | 515 | 0.3412856 |\n",
       "\n"
      ],
      "text/plain": [
       "  category value fraction \n",
       "3 writing  493   0.3267064\n",
       "1 reading  501   0.3320080\n",
       "2 math     515   0.3412856"
      ]
     },
     "metadata": {},
     "output_type": "display_data"
    }
   ],
   "source": [
    "education_donut$fraction = education_donut$value / sum(education_donut$value)\n",
    "education_donut[order(education_donut$fraction),]"
   ]
  },
  {
   "cell_type": "code",
   "execution_count": 54,
   "id": "7a705a2e",
   "metadata": {},
   "outputs": [],
   "source": [
    "education_donut$ymax = cumsum(education_donut$fraction)"
   ]
  },
  {
   "cell_type": "code",
   "execution_count": 55,
   "id": "b5bd147f",
   "metadata": {},
   "outputs": [],
   "source": [
    "education_donut$ymin = c(0, head(education_donut$ymax, n=-1))"
   ]
  },
  {
   "cell_type": "code",
   "execution_count": 64,
   "id": "2d59c25f",
   "metadata": {},
   "outputs": [
    {
     "data": {
      "image/png": "[encoded data removed]",
      "text/plain": [
       "plot without title"
      ]
     },
     "metadata": {
      "image/png": {
       "height": 300,
       "width": 300
      }
     },
     "output_type": "display_data"
    }
   ],
   "source": [
    "ggplot2::ggplot(education_donut, ggplot2::aes(fill=category, ymax=ymax, ymin=ymin, xmax=4, xmin=3)) +\n",
    "  ggplot2::geom_rect() +\n",
    "  ggplot2::coord_polar(theta=\"y\") +\n",
    "  ggplot2::xlim(c(0, 4)) +\n",
    "  ggplot2::theme(panel.grid=ggplot2::element_blank()) +\n",
    "  ggplot2::theme(axis.text=ggplot2::element_blank()) +\n",
    "  ggplot2::theme(axis.ticks=ggplot2::element_blank()) +\n",
    "  ggplot2::annotate(\"text\", x = 0, y = 0, label = \"Education Components\") +\n",
    "  ggplot2::labs(title=\"\")"
   ]
  },
  {
   "cell_type": "code",
   "execution_count": null,
   "id": "e27577eb",
   "metadata": {},
   "outputs": [],
   "source": []
  }
 ],
 "metadata": {
  "kernelspec": {
   "display_name": "R",
   "language": "R",
   "name": "ir"
  },
  "language_info": {
   "codemirror_mode": "r",
   "file_extension": ".r",
   "mimetype": "text/x-r-source",
   "name": "R",
   "pygments_lexer": "r",
   "version": "4.1.2"
  }
 },
 "nbformat": 4,
 "nbformat_minor": 5
}
