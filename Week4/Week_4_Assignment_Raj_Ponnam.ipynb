{
 "cells": [
  {
   "cell_type": "code",
   "execution_count": 24,
   "id": "fe7befad",
   "metadata": {},
   "outputs": [],
   "source": [
    "# Imports\n",
    "import pandas as pd\n",
    "import matplotlib.pyplot as plt\n",
    "import numpy as np\n",
    "from chart_studio import plotly as py\n",
    "import cufflinks as cf\n",
    "import seaborn as sns\n",
    "import matplotlib as mpl\n",
    "import plotly.express as px\n",
    "import squarify\n",
    "\n",
    "import os\n",
    "import warnings\n"
   ]
  },
  {
   "cell_type": "code",
   "execution_count": 12,
   "id": "f175b36b",
   "metadata": {},
   "outputs": [],
   "source": [
    "# Chnage working directory\n",
    "os.chdir('/Users/rajponnam/Documents/ds_course/dsc640/Week4')"
   ]
  },
  {
   "cell_type": "code",
   "execution_count": 27,
   "id": "75f6b08c",
   "metadata": {},
   "outputs": [],
   "source": [
    "# read .csv file using pandas\n",
    "\n",
    "birth_rate_df = pd.read_csv('birth-rate.csv')\n",
    "birth_rate_yearly_df = pd.read_csv('birth-rates-yearly.csv')\n",
    "life_expectancy_df = pd.read_csv('life-expectancy.csv')\n",
    "crimerates_by_state_df = pd.read_csv('crimerates-by-state-2005.csv')\n"
   ]
  },
  {
   "cell_type": "code",
   "execution_count": 14,
   "id": "34b0948a",
   "metadata": {},
   "outputs": [
    {
     "name": "stdout",
     "output_type": "stream",
     "text": [
      "        state  murder  forcible_rape  robbery  aggravated_assault  burglary  \\\n",
      "1     Alabama     8.2           34.3    141.4               247.8     953.8   \n",
      "2      Alaska     4.8           81.1     80.9               465.1     622.5   \n",
      "3     Arizona     7.5           33.8    144.4               327.4     948.4   \n",
      "4    Arkansas     6.7           42.9     91.1               386.8    1084.6   \n",
      "5  California     6.9           26.0    176.1               317.3     693.3   \n",
      "\n",
      "   larceny_theft  motor_vehicle_theft  population  \n",
      "1         2650.0                288.3     4545049  \n",
      "2         2599.1                391.0      669488  \n",
      "3         2965.2                924.4     5974834  \n",
      "4         2711.2                262.1     2776221  \n",
      "5         1916.5                712.8    35795255  \n"
     ]
    }
   ],
   "source": [
    "crimerates_by_states = crimerates_by_state_df[crimerates_by_state_df['state']!='United States']\n",
    "\n",
    "# prinf the result\n",
    "print(crimerates_by_states.head())"
   ]
  },
  {
   "cell_type": "markdown",
   "id": "99486676",
   "metadata": {},
   "source": [
    "# Density plot"
   ]
  },
  {
   "cell_type": "code",
   "execution_count": 18,
   "id": "6d0ebf33",
   "metadata": {},
   "outputs": [
    {
     "data": {
      "text/plain": [
       "<AxesSubplot:xlabel='population', ylabel='Density'>"
      ]
     },
     "execution_count": 18,
     "metadata": {},
     "output_type": "execute_result"
    },
    {
     "data": {
      "image/png": "[encoded data removed]",
      "text/plain": [
       "<Figure size 432x288 with 1 Axes>"
      ]
     },
     "metadata": {
      "needs_background": "light"
     },
     "output_type": "display_data"
    }
   ],
   "source": [
    "warnings.simplefilter(action='ignore', category=FutureWarning)\n",
    "sns.distplot(crimerates_by_states['population'], hist = False, kde = True,\n",
    "                 kde_kws = {'shade': True, 'linewidth': 3}, color=\"red\", label=\"100% Equities\")\n",
    "\n"
   ]
  },
  {
   "cell_type": "markdown",
   "id": "b458e19f",
   "metadata": {},
   "source": [
    "# Bubble Chart"
   ]
  },
  {
   "cell_type": "code",
   "execution_count": 28,
   "id": "204f6344",
   "metadata": {},
   "outputs": [
    {
     "data": {
      "text/html": [
       "<div>\n",
       "<style scoped>\n",
       "    .dataframe tbody tr th:only-of-type {\n",
       "        vertical-align: middle;\n",
       "    }\n",
       "\n",
       "    .dataframe tbody tr th {\n",
       "        vertical-align: top;\n",
       "    }\n",
       "\n",
       "    .dataframe thead th {\n",
       "        text-align: right;\n",
       "    }\n",
       "</style>\n",
       "<table border=\"1\" class=\"dataframe\">\n",
       "  <thead>\n",
       "    <tr style=\"text-align: right;\">\n",
       "      <th></th>\n",
       "      <th>state</th>\n",
       "      <th>murder</th>\n",
       "      <th>forcible_rape</th>\n",
       "      <th>robbery</th>\n",
       "      <th>aggravated_assault</th>\n",
       "      <th>burglary</th>\n",
       "      <th>larceny_theft</th>\n",
       "      <th>motor_vehicle_theft</th>\n",
       "      <th>population</th>\n",
       "    </tr>\n",
       "  </thead>\n",
       "  <tbody>\n",
       "    <tr>\n",
       "      <th>0</th>\n",
       "      <td>United States</td>\n",
       "      <td>5.6</td>\n",
       "      <td>31.7</td>\n",
       "      <td>140.7</td>\n",
       "      <td>291.1</td>\n",
       "      <td>726.7</td>\n",
       "      <td>2286.3</td>\n",
       "      <td>416.7</td>\n",
       "      <td>295753151</td>\n",
       "    </tr>\n",
       "    <tr>\n",
       "      <th>1</th>\n",
       "      <td>Alabama</td>\n",
       "      <td>8.2</td>\n",
       "      <td>34.3</td>\n",
       "      <td>141.4</td>\n",
       "      <td>247.8</td>\n",
       "      <td>953.8</td>\n",
       "      <td>2650.0</td>\n",
       "      <td>288.3</td>\n",
       "      <td>4545049</td>\n",
       "    </tr>\n",
       "    <tr>\n",
       "      <th>2</th>\n",
       "      <td>Alaska</td>\n",
       "      <td>4.8</td>\n",
       "      <td>81.1</td>\n",
       "      <td>80.9</td>\n",
       "      <td>465.1</td>\n",
       "      <td>622.5</td>\n",
       "      <td>2599.1</td>\n",
       "      <td>391.0</td>\n",
       "      <td>669488</td>\n",
       "    </tr>\n",
       "    <tr>\n",
       "      <th>3</th>\n",
       "      <td>Arizona</td>\n",
       "      <td>7.5</td>\n",
       "      <td>33.8</td>\n",
       "      <td>144.4</td>\n",
       "      <td>327.4</td>\n",
       "      <td>948.4</td>\n",
       "      <td>2965.2</td>\n",
       "      <td>924.4</td>\n",
       "      <td>5974834</td>\n",
       "    </tr>\n",
       "    <tr>\n",
       "      <th>4</th>\n",
       "      <td>Arkansas</td>\n",
       "      <td>6.7</td>\n",
       "      <td>42.9</td>\n",
       "      <td>91.1</td>\n",
       "      <td>386.8</td>\n",
       "      <td>1084.6</td>\n",
       "      <td>2711.2</td>\n",
       "      <td>262.1</td>\n",
       "      <td>2776221</td>\n",
       "    </tr>\n",
       "  </tbody>\n",
       "</table>\n",
       "</div>"
      ],
      "text/plain": [
       "           state  murder  forcible_rape  robbery  aggravated_assault  \\\n",
       "0  United States     5.6           31.7    140.7               291.1   \n",
       "1        Alabama     8.2           34.3    141.4               247.8   \n",
       "2         Alaska     4.8           81.1     80.9               465.1   \n",
       "3        Arizona     7.5           33.8    144.4               327.4   \n",
       "4       Arkansas     6.7           42.9     91.1               386.8   \n",
       "\n",
       "   burglary  larceny_theft  motor_vehicle_theft  population  \n",
       "0     726.7         2286.3                416.7   295753151  \n",
       "1     953.8         2650.0                288.3     4545049  \n",
       "2     622.5         2599.1                391.0      669488  \n",
       "3     948.4         2965.2                924.4     5974834  \n",
       "4    1084.6         2711.2                262.1     2776221  "
      ]
     },
     "execution_count": 28,
     "metadata": {},
     "output_type": "execute_result"
    }
   ],
   "source": [
    "crimerates_by_state_df.head()"
   ]
  },
  {
   "cell_type": "code",
   "execution_count": 30,
   "id": "2078584a",
   "metadata": {},
   "outputs": [
    {
     "data": {
      "text/html": [
       "<div>\n",
       "<style scoped>\n",
       "    .dataframe tbody tr th:only-of-type {\n",
       "        vertical-align: middle;\n",
       "    }\n",
       "\n",
       "    .dataframe tbody tr th {\n",
       "        vertical-align: top;\n",
       "    }\n",
       "\n",
       "    .dataframe thead th {\n",
       "        text-align: right;\n",
       "    }\n",
       "</style>\n",
       "<table border=\"1\" class=\"dataframe\">\n",
       "  <thead>\n",
       "    <tr style=\"text-align: right;\">\n",
       "      <th></th>\n",
       "      <th>state</th>\n",
       "      <th>murder</th>\n",
       "      <th>forcible_rape</th>\n",
       "      <th>robbery</th>\n",
       "      <th>aggravated_assault</th>\n",
       "      <th>burglary</th>\n",
       "      <th>larceny_theft</th>\n",
       "      <th>motor_vehicle_theft</th>\n",
       "      <th>population</th>\n",
       "    </tr>\n",
       "  </thead>\n",
       "  <tbody>\n",
       "    <tr>\n",
       "      <th>1</th>\n",
       "      <td>Alabama</td>\n",
       "      <td>8.2</td>\n",
       "      <td>34.3</td>\n",
       "      <td>141.4</td>\n",
       "      <td>247.8</td>\n",
       "      <td>953.8</td>\n",
       "      <td>2650.0</td>\n",
       "      <td>288.3</td>\n",
       "      <td>4545049</td>\n",
       "    </tr>\n",
       "    <tr>\n",
       "      <th>2</th>\n",
       "      <td>Alaska</td>\n",
       "      <td>4.8</td>\n",
       "      <td>81.1</td>\n",
       "      <td>80.9</td>\n",
       "      <td>465.1</td>\n",
       "      <td>622.5</td>\n",
       "      <td>2599.1</td>\n",
       "      <td>391.0</td>\n",
       "      <td>669488</td>\n",
       "    </tr>\n",
       "    <tr>\n",
       "      <th>3</th>\n",
       "      <td>Arizona</td>\n",
       "      <td>7.5</td>\n",
       "      <td>33.8</td>\n",
       "      <td>144.4</td>\n",
       "      <td>327.4</td>\n",
       "      <td>948.4</td>\n",
       "      <td>2965.2</td>\n",
       "      <td>924.4</td>\n",
       "      <td>5974834</td>\n",
       "    </tr>\n",
       "    <tr>\n",
       "      <th>4</th>\n",
       "      <td>Arkansas</td>\n",
       "      <td>6.7</td>\n",
       "      <td>42.9</td>\n",
       "      <td>91.1</td>\n",
       "      <td>386.8</td>\n",
       "      <td>1084.6</td>\n",
       "      <td>2711.2</td>\n",
       "      <td>262.1</td>\n",
       "      <td>2776221</td>\n",
       "    </tr>\n",
       "    <tr>\n",
       "      <th>5</th>\n",
       "      <td>California</td>\n",
       "      <td>6.9</td>\n",
       "      <td>26.0</td>\n",
       "      <td>176.1</td>\n",
       "      <td>317.3</td>\n",
       "      <td>693.3</td>\n",
       "      <td>1916.5</td>\n",
       "      <td>712.8</td>\n",
       "      <td>35795255</td>\n",
       "    </tr>\n",
       "  </tbody>\n",
       "</table>\n",
       "</div>"
      ],
      "text/plain": [
       "        state  murder  forcible_rape  robbery  aggravated_assault  burglary  \\\n",
       "1     Alabama     8.2           34.3    141.4               247.8     953.8   \n",
       "2      Alaska     4.8           81.1     80.9               465.1     622.5   \n",
       "3     Arizona     7.5           33.8    144.4               327.4     948.4   \n",
       "4    Arkansas     6.7           42.9     91.1               386.8    1084.6   \n",
       "5  California     6.9           26.0    176.1               317.3     693.3   \n",
       "\n",
       "   larceny_theft  motor_vehicle_theft  population  \n",
       "1         2650.0                288.3     4545049  \n",
       "2         2599.1                391.0      669488  \n",
       "3         2965.2                924.4     5974834  \n",
       "4         2711.2                262.1     2776221  \n",
       "5         1916.5                712.8    35795255  "
      ]
     },
     "execution_count": 30,
     "metadata": {},
     "output_type": "execute_result"
    }
   ],
   "source": [
    "crimerates_by_state_df = crimerates_by_state_df[(crimerates_by_state_df.state != 'United States') & (crimerates_by_state_df.state != '')]\n",
    "crimerates_by_state_df.head()"
   ]
  },
  {
   "cell_type": "code",
   "execution_count": 35,
   "id": "37d43d9e",
   "metadata": {},
   "outputs": [
    {
     "data": {
      "text/plain": [
       "Text(0.5, 1.0, 'Bubble Plot ')"
      ]
     },
     "execution_count": 35,
     "metadata": {},
     "output_type": "execute_result"
    },
    {
     "data": {
      "image/png": "[encoded data removed]",
      "text/plain": [
       "<Figure size 432x288 with 1 Axes>"
      ]
     },
     "metadata": {
      "needs_background": "light"
     },
     "output_type": "display_data"
    }
   ],
   "source": [
    "plt.scatter('forcible_rape','robbery',s='aggravated_assault',alpha=0.7, data=crimerates_by_state_df)\n",
    "plt.xlabel(\"murder\", size=13)\n",
    "plt.ylabel(\"forcible_rape\", size=13)\n",
    "plt.title(\"Bubble Plot \", size=20)"
   ]
  },
  {
   "cell_type": "code",
   "execution_count": 38,
   "id": "af5d035a",
   "metadata": {},
   "outputs": [
    {
     "data": {
      "application/vnd.plotly.v1+json": {
       "config": {
        "plotlyServerURL": "https://plotly.com"
       },
       "data": [
        {
         "hovertemplate": "<b>%{hovertext}</b><br><br>state=Alabama<br>forcible_rape=%{x}<br>burglary=%{y}<br>population=%{marker.size}<extra></extra>",
         "hovertext": [
          "Alabama"
         ],
         "legendgroup": "Alabama",
         "marker": {
          "color": "#636efa",
          "size": [
           4545049
          ],
          "sizemode": "area",
          "sizeref": 5593.00859375,
          "symbol": "circle"
         },
         "mode": "markers",
         "name": "Alabama",
         "orientation": "v",
         "showlegend": true,
         "type": "scatter",
         "x": [
          34.3
         ],
         "xaxis": "x",
         "y": [
          953.8
         ],
         "yaxis": "y"
        },
        {
         "hovertemplate": "<b>%{hovertext}</b><br><br>state=Alaska<br>forcible_rape=%{x}<br>burglary=%{y}<br>population=%{marker.size}<extra></extra>",
         "hovertext": [
          "Alaska"
         ],
         "legendgroup": "Alaska",
         "marker": {
          "color": "#EF553B",
          "size": [
           669488
          ],
          "sizemode": "area",
          "sizeref": 5593.00859375,
          "symbol": "circle"
         },
         "mode": "markers",
         "name": "Alaska",
         "orientation": "v",
         "showlegend": true,
         "type": "scatter",
         "x": [
          81.1
         ],
         "xaxis": "x",
         "y": [
          622.5
         ],
         "yaxis": "y"
        },
        {
         "hovertemplate": "<b>%{hovertext}</b><br><br>state=Arizona<br>forcible_rape=%{x}<br>burglary=%{y}<br>population=%{marker.size}<extra></extra>",
         "hovertext": [
          "Arizona"
         ],
         "legendgroup": "Arizona",
         "marker": {
          "color": "#00cc96",
          "size": [
           5974834
          ],
          "sizemode": "area",
          "sizeref": 5593.00859375,
          "symbol": "circle"
         },
         "mode": "markers",
         "name": "Arizona",
         "orientation": "v",
         "showlegend": true,
         "type": "scatter",
         "x": [
          33.8
         ],
         "xaxis": "x",
         "y": [
          948.4
         ],
         "yaxis": "y"
        },
        {
         "hovertemplate": "<b>%{hovertext}</b><br><br>state=Arkansas<br>forcible_rape=%{x}<br>burglary=%{y}<br>population=%{marker.size}<extra></extra>",
         "hovertext": [
          "Arkansas"
         ],
         "legendgroup": "Arkansas",
         "marker": {
          "color": "#ab63fa",
          "size": [
           2776221
          ],
          "sizemode": "area",
          "sizeref": 5593.00859375,
          "symbol": "circle"
         },
         "mode": "markers",
         "name": "Arkansas",
         "orientation": "v",
         "showlegend": true,
         "type": "scatter",
         "x": [
          42.9
         ],
         "xaxis": "x",
         "y": [
          1084.6
         ],
         "yaxis": "y"
        },
        {
         "hovertemplate": "<b>%{hovertext}</b><br><br>state=California<br>forcible_rape=%{x}<br>burglary=%{y}<br>population=%{marker.size}<extra></extra>",
         "hovertext": [
          "California"
         ],
         "legendgroup": "California",
         "marker": {
          "color": "#FFA15A",
          "size": [
           35795255
          ],
          "sizemode": "area",
          "sizeref": 5593.00859375,
          "symbol": "circle"
         },
         "mode": "markers",
         "name": "California",
         "orientation": "v",
         "showlegend": true,
         "type": "scatter",
         "x": [
          26
         ],
         "xaxis": "x",
         "y": [
          693.3
         ],
         "yaxis": "y"
        },
        {
         "hovertemplate": "<b>%{hovertext}</b><br><br>state=Colorado<br>forcible_rape=%{x}<br>burglary=%{y}<br>population=%{marker.size}<extra></extra>",
         "hovertext": [
          "Colorado"
         ],
         "legendgroup": "Colorado",
         "marker": {
          "color": "#19d3f3",
          "size": [
           4660780
          ],
          "sizemode": "area",
          "sizeref": 5593.00859375,
          "symbol": "circle"
         },
         "mode": "markers",
         "name": "Colorado",
         "orientation": "v",
         "showlegend": true,
         "type": "scatter",
         "x": [
          43.4
         ],
         "xaxis": "x",
         "y": [
          744.8
         ],
         "yaxis": "y"
        },
        {
         "hovertemplate": "<b>%{hovertext}</b><br><br>state=Connecticut<br>forcible_rape=%{x}<br>burglary=%{y}<br>population=%{marker.size}<extra></extra>",
         "hovertext": [
          "Connecticut"
         ],
         "legendgroup": "Connecticut",
         "marker": {
          "color": "#FF6692",
          "size": [
           3477416
          ],
          "sizemode": "area",
          "sizeref": 5593.00859375,
          "symbol": "circle"
         },
         "mode": "markers",
         "name": "Connecticut",
         "orientation": "v",
         "showlegend": true,
         "type": "scatter",
         "x": [
          20
         ],
         "xaxis": "x",
         "y": [
          437.1
         ],
         "yaxis": "y"
        },
        {
         "hovertemplate": "<b>%{hovertext}</b><br><br>state=Delaware<br>forcible_rape=%{x}<br>burglary=%{y}<br>population=%{marker.size}<extra></extra>",
         "hovertext": [
          "Delaware"
         ],
         "legendgroup": "Delaware",
         "marker": {
          "color": "#B6E880",
          "size": [
           839906
          ],
          "sizemode": "area",
          "sizeref": 5593.00859375,
          "symbol": "circle"
         },
         "mode": "markers",
         "name": "Delaware",
         "orientation": "v",
         "showlegend": true,
         "type": "scatter",
         "x": [
          44.7
         ],
         "xaxis": "x",
         "y": [
          688.9
         ],
         "yaxis": "y"
        },
        {
         "hovertemplate": "<b>%{hovertext}</b><br><br>state=District of Columbia<br>forcible_rape=%{x}<br>burglary=%{y}<br>population=%{marker.size}<extra></extra>",
         "hovertext": [
          "District of Columbia"
         ],
         "legendgroup": "District of Columbia",
         "marker": {
          "color": "#FF97FF",
          "size": [
           582049
          ],
          "sizemode": "area",
          "sizeref": 5593.00859375,
          "symbol": "circle"
         },
         "mode": "markers",
         "name": "District of Columbia",
         "orientation": "v",
         "showlegend": true,
         "type": "scatter",
         "x": [
          30.2
         ],
         "xaxis": "x",
         "y": [
          649.7
         ],
         "yaxis": "y"
        },
        {
         "hovertemplate": "<b>%{hovertext}</b><br><br>state=Florida<br>forcible_rape=%{x}<br>burglary=%{y}<br>population=%{marker.size}<extra></extra>",
         "hovertext": [
          "Florida"
         ],
         "legendgroup": "Florida",
         "marker": {
          "color": "#FECB52",
          "size": [
           17783868
          ],
          "sizemode": "area",
          "sizeref": 5593.00859375,
          "symbol": "circle"
         },
         "mode": "markers",
         "name": "Florida",
         "orientation": "v",
         "showlegend": true,
         "type": "scatter",
         "x": [
          37.1
         ],
         "xaxis": "x",
         "y": [
          926.3
         ],
         "yaxis": "y"
        },
        {
         "hovertemplate": "<b>%{hovertext}</b><br><br>state=Georgia<br>forcible_rape=%{x}<br>burglary=%{y}<br>population=%{marker.size}<extra></extra>",
         "hovertext": [
          "Georgia"
         ],
         "legendgroup": "Georgia",
         "marker": {
          "color": "#636efa",
          "size": [
           9097428
          ],
          "sizemode": "area",
          "sizeref": 5593.00859375,
          "symbol": "circle"
         },
         "mode": "markers",
         "name": "Georgia",
         "orientation": "v",
         "showlegend": true,
         "type": "scatter",
         "x": [
          23.6
         ],
         "xaxis": "x",
         "y": [
          931
         ],
         "yaxis": "y"
        },
        {
         "hovertemplate": "<b>%{hovertext}</b><br><br>state=Hawaii<br>forcible_rape=%{x}<br>burglary=%{y}<br>population=%{marker.size}<extra></extra>",
         "hovertext": [
          "Hawaii"
         ],
         "legendgroup": "Hawaii",
         "marker": {
          "color": "#EF553B",
          "size": [
           1266117
          ],
          "sizemode": "area",
          "sizeref": 5593.00859375,
          "symbol": "circle"
         },
         "mode": "markers",
         "name": "Hawaii",
         "orientation": "v",
         "showlegend": true,
         "type": "scatter",
         "x": [
          26.9
         ],
         "xaxis": "x",
         "y": [
          767.9
         ],
         "yaxis": "y"
        },
        {
         "hovertemplate": "<b>%{hovertext}</b><br><br>state=Idaho<br>forcible_rape=%{x}<br>burglary=%{y}<br>population=%{marker.size}<extra></extra>",
         "hovertext": [
          "Idaho"
         ],
         "legendgroup": "Idaho",
         "marker": {
          "color": "#00cc96",
          "size": [
           1425862
          ],
          "sizemode": "area",
          "sizeref": 5593.00859375,
          "symbol": "circle"
         },
         "mode": "markers",
         "name": "Idaho",
         "orientation": "v",
         "showlegend": true,
         "type": "scatter",
         "x": [
          40.4
         ],
         "xaxis": "x",
         "y": [
          564.4
         ],
         "yaxis": "y"
        },
        {
         "hovertemplate": "<b>%{hovertext}</b><br><br>state=Illinois<br>forcible_rape=%{x}<br>burglary=%{y}<br>population=%{marker.size}<extra></extra>",
         "hovertext": [
          "Illinois"
         ],
         "legendgroup": "Illinois",
         "marker": {
          "color": "#ab63fa",
          "size": [
           12674452
          ],
          "sizemode": "area",
          "sizeref": 5593.00859375,
          "symbol": "circle"
         },
         "mode": "markers",
         "name": "Illinois",
         "orientation": "v",
         "showlegend": true,
         "type": "scatter",
         "x": [
          33.7
         ],
         "xaxis": "x",
         "y": [
          606.9
         ],
         "yaxis": "y"
        },
        {
         "hovertemplate": "<b>%{hovertext}</b><br><br>state=Indiana<br>forcible_rape=%{x}<br>burglary=%{y}<br>population=%{marker.size}<extra></extra>",
         "hovertext": [
          "Indiana"
         ],
         "legendgroup": "Indiana",
         "marker": {
          "color": "#FFA15A",
          "size": [
           6253120
          ],
          "sizemode": "area",
          "sizeref": 5593.00859375,
          "symbol": "circle"
         },
         "mode": "markers",
         "name": "Indiana",
         "orientation": "v",
         "showlegend": true,
         "type": "scatter",
         "x": [
          29.6
         ],
         "xaxis": "x",
         "y": [
          697.6
         ],
         "yaxis": "y"
        },
        {
         "hovertemplate": "<b>%{hovertext}</b><br><br>state=Iowa<br>forcible_rape=%{x}<br>burglary=%{y}<br>population=%{marker.size}<extra></extra>",
         "hovertext": [
          "Iowa"
         ],
         "legendgroup": "Iowa",
         "marker": {
          "color": "#19d3f3",
          "size": [
           2949450
          ],
          "sizemode": "area",
          "sizeref": 5593.00859375,
          "symbol": "circle"
         },
         "mode": "markers",
         "name": "Iowa",
         "orientation": "v",
         "showlegend": true,
         "type": "scatter",
         "x": [
          27.9
         ],
         "xaxis": "x",
         "y": [
          606.4
         ],
         "yaxis": "y"
        },
        {
         "hovertemplate": "<b>%{hovertext}</b><br><br>state=Kansas<br>forcible_rape=%{x}<br>burglary=%{y}<br>population=%{marker.size}<extra></extra>",
         "hovertext": [
          "Kansas"
         ],
         "legendgroup": "Kansas",
         "marker": {
          "color": "#FF6692",
          "size": [
           2741771
          ],
          "sizemode": "area",
          "sizeref": 5593.00859375,
          "symbol": "circle"
         },
         "mode": "markers",
         "name": "Kansas",
         "orientation": "v",
         "showlegend": true,
         "type": "scatter",
         "x": [
          38.4
         ],
         "xaxis": "x",
         "y": [
          689.2
         ],
         "yaxis": "y"
        },
        {
         "hovertemplate": "<b>%{hovertext}</b><br><br>state=Kentucky<br>forcible_rape=%{x}<br>burglary=%{y}<br>population=%{marker.size}<extra></extra>",
         "hovertext": [
          "Kentucky"
         ],
         "legendgroup": "Kentucky",
         "marker": {
          "color": "#B6E880",
          "size": [
           4182293
          ],
          "sizemode": "area",
          "sizeref": 5593.00859375,
          "symbol": "circle"
         },
         "mode": "markers",
         "name": "Kentucky",
         "orientation": "v",
         "showlegend": true,
         "type": "scatter",
         "x": [
          34
         ],
         "xaxis": "x",
         "y": [
          634
         ],
         "yaxis": "y"
        },
        {
         "hovertemplate": "<b>%{hovertext}</b><br><br>state=Louisiana<br>forcible_rape=%{x}<br>burglary=%{y}<br>population=%{marker.size}<extra></extra>",
         "hovertext": [
          "Louisiana"
         ],
         "legendgroup": "Louisiana",
         "marker": {
          "color": "#FF97FF",
          "size": [
           4497691
          ],
          "sizemode": "area",
          "sizeref": 5593.00859375,
          "symbol": "circle"
         },
         "mode": "markers",
         "name": "Louisiana",
         "orientation": "v",
         "showlegend": true,
         "type": "scatter",
         "x": [
          31.4
         ],
         "xaxis": "x",
         "y": [
          870.6
         ],
         "yaxis": "y"
        },
        {
         "hovertemplate": "<b>%{hovertext}</b><br><br>state=Maine<br>forcible_rape=%{x}<br>burglary=%{y}<br>population=%{marker.size}<extra></extra>",
         "hovertext": [
          "Maine"
         ],
         "legendgroup": "Maine",
         "marker": {
          "color": "#FECB52",
          "size": [
           1311631
          ],
          "sizemode": "area",
          "sizeref": 5593.00859375,
          "symbol": "circle"
         },
         "mode": "markers",
         "name": "Maine",
         "orientation": "v",
         "showlegend": true,
         "type": "scatter",
         "x": [
          24.7
         ],
         "xaxis": "x",
         "y": [
          478.5
         ],
         "yaxis": "y"
        },
        {
         "hovertemplate": "<b>%{hovertext}</b><br><br>state=Maryland<br>forcible_rape=%{x}<br>burglary=%{y}<br>population=%{marker.size}<extra></extra>",
         "hovertext": [
          "Maryland"
         ],
         "legendgroup": "Maryland",
         "marker": {
          "color": "#636efa",
          "size": [
           5582520
          ],
          "sizemode": "area",
          "sizeref": 5593.00859375,
          "symbol": "circle"
         },
         "mode": "markers",
         "name": "Maryland",
         "orientation": "v",
         "showlegend": true,
         "type": "scatter",
         "x": [
          22.6
         ],
         "xaxis": "x",
         "y": [
          641.4
         ],
         "yaxis": "y"
        },
        {
         "hovertemplate": "<b>%{hovertext}</b><br><br>state=Massachusetts<br>forcible_rape=%{x}<br>burglary=%{y}<br>population=%{marker.size}<extra></extra>",
         "hovertext": [
          "Massachusetts"
         ],
         "legendgroup": "Massachusetts",
         "marker": {
          "color": "#EF553B",
          "size": [
           6453031
          ],
          "sizemode": "area",
          "sizeref": 5593.00859375,
          "symbol": "circle"
         },
         "mode": "markers",
         "name": "Massachusetts",
         "orientation": "v",
         "showlegend": true,
         "type": "scatter",
         "x": [
          27.1
         ],
         "xaxis": "x",
         "y": [
          541.1
         ],
         "yaxis": "y"
        },
        {
         "hovertemplate": "<b>%{hovertext}</b><br><br>state=Michigan<br>forcible_rape=%{x}<br>burglary=%{y}<br>population=%{marker.size}<extra></extra>",
         "hovertext": [
          "Michigan"
         ],
         "legendgroup": "Michigan",
         "marker": {
          "color": "#00cc96",
          "size": [
           10090554
          ],
          "sizemode": "area",
          "sizeref": 5593.00859375,
          "symbol": "circle"
         },
         "mode": "markers",
         "name": "Michigan",
         "orientation": "v",
         "showlegend": true,
         "type": "scatter",
         "x": [
          51.3
         ],
         "xaxis": "x",
         "y": [
          696.8
         ],
         "yaxis": "y"
        },
        {
         "hovertemplate": "<b>%{hovertext}</b><br><br>state=Minnesota<br>forcible_rape=%{x}<br>burglary=%{y}<br>population=%{marker.size}<extra></extra>",
         "hovertext": [
          "Minnesota"
         ],
         "legendgroup": "Minnesota",
         "marker": {
          "color": "#ab63fa",
          "size": [
           5106560
          ],
          "sizemode": "area",
          "sizeref": 5593.00859375,
          "symbol": "circle"
         },
         "mode": "markers",
         "name": "Minnesota",
         "orientation": "v",
         "showlegend": true,
         "type": "scatter",
         "x": [
          44
         ],
         "xaxis": "x",
         "y": [
          578.9
         ],
         "yaxis": "y"
        },
        {
         "hovertemplate": "<b>%{hovertext}</b><br><br>state=Mississippi<br>forcible_rape=%{x}<br>burglary=%{y}<br>population=%{marker.size}<extra></extra>",
         "hovertext": [
          "Mississippi"
         ],
         "legendgroup": "Mississippi",
         "marker": {
          "color": "#FFA15A",
          "size": [
           2900116
          ],
          "sizemode": "area",
          "sizeref": 5593.00859375,
          "symbol": "circle"
         },
         "mode": "markers",
         "name": "Mississippi",
         "orientation": "v",
         "showlegend": true,
         "type": "scatter",
         "x": [
          39.3
         ],
         "xaxis": "x",
         "y": [
          919.7
         ],
         "yaxis": "y"
        },
        {
         "hovertemplate": "<b>%{hovertext}</b><br><br>state=Missouri<br>forcible_rape=%{x}<br>burglary=%{y}<br>population=%{marker.size}<extra></extra>",
         "hovertext": [
          "Missouri"
         ],
         "legendgroup": "Missouri",
         "marker": {
          "color": "#19d3f3",
          "size": [
           5806639
          ],
          "sizemode": "area",
          "sizeref": 5593.00859375,
          "symbol": "circle"
         },
         "mode": "markers",
         "name": "Missouri",
         "orientation": "v",
         "showlegend": true,
         "type": "scatter",
         "x": [
          28
         ],
         "xaxis": "x",
         "y": [
          738.3
         ],
         "yaxis": "y"
        },
        {
         "hovertemplate": "<b>%{hovertext}</b><br><br>state=Montana<br>forcible_rape=%{x}<br>burglary=%{y}<br>population=%{marker.size}<extra></extra>",
         "hovertext": [
          "Montana"
         ],
         "legendgroup": "Montana",
         "marker": {
          "color": "#FF6692",
          "size": [
           934801
          ],
          "sizemode": "area",
          "sizeref": 5593.00859375,
          "symbol": "circle"
         },
         "mode": "markers",
         "name": "Montana",
         "orientation": "v",
         "showlegend": true,
         "type": "scatter",
         "x": [
          32.2
         ],
         "xaxis": "x",
         "y": [
          389.2
         ],
         "yaxis": "y"
        },
        {
         "hovertemplate": "<b>%{hovertext}</b><br><br>state=Nebraska<br>forcible_rape=%{x}<br>burglary=%{y}<br>population=%{marker.size}<extra></extra>",
         "hovertext": [
          "Nebraska"
         ],
         "legendgroup": "Nebraska",
         "marker": {
          "color": "#B6E880",
          "size": [
           1751721
          ],
          "sizemode": "area",
          "sizeref": 5593.00859375,
          "symbol": "circle"
         },
         "mode": "markers",
         "name": "Nebraska",
         "orientation": "v",
         "showlegend": true,
         "type": "scatter",
         "x": [
          32.9
         ],
         "xaxis": "x",
         "y": [
          532.4
         ],
         "yaxis": "y"
        },
        {
         "hovertemplate": "<b>%{hovertext}</b><br><br>state=Nevada<br>forcible_rape=%{x}<br>burglary=%{y}<br>population=%{marker.size}<extra></extra>",
         "hovertext": [
          "Nevada"
         ],
         "legendgroup": "Nevada",
         "marker": {
          "color": "#FF97FF",
          "size": [
           2408804
          ],
          "sizemode": "area",
          "sizeref": 5593.00859375,
          "symbol": "circle"
         },
         "mode": "markers",
         "name": "Nevada",
         "orientation": "v",
         "showlegend": true,
         "type": "scatter",
         "x": [
          42.1
         ],
         "xaxis": "x",
         "y": [
          972.4
         ],
         "yaxis": "y"
        },
        {
         "hovertemplate": "<b>%{hovertext}</b><br><br>state=New Hampshire<br>forcible_rape=%{x}<br>burglary=%{y}<br>population=%{marker.size}<extra></extra>",
         "hovertext": [
          "New Hampshire"
         ],
         "legendgroup": "New Hampshire",
         "marker": {
          "color": "#FECB52",
          "size": [
           1301415
          ],
          "sizemode": "area",
          "sizeref": 5593.00859375,
          "symbol": "circle"
         },
         "mode": "markers",
         "name": "New Hampshire",
         "orientation": "v",
         "showlegend": true,
         "type": "scatter",
         "x": [
          30.9
         ],
         "xaxis": "x",
         "y": [
          317
         ],
         "yaxis": "y"
        },
        {
         "hovertemplate": "<b>%{hovertext}</b><br><br>state=New Jersey<br>forcible_rape=%{x}<br>burglary=%{y}<br>population=%{marker.size}<extra></extra>",
         "hovertext": [
          "New Jersey"
         ],
         "legendgroup": "New Jersey",
         "marker": {
          "color": "#636efa",
          "size": [
           8621837
          ],
          "sizemode": "area",
          "sizeref": 5593.00859375,
          "symbol": "circle"
         },
         "mode": "markers",
         "name": "New Jersey",
         "orientation": "v",
         "showlegend": true,
         "type": "scatter",
         "x": [
          13.9
         ],
         "xaxis": "x",
         "y": [
          447.1
         ],
         "yaxis": "y"
        },
        {
         "hovertemplate": "<b>%{hovertext}</b><br><br>state=New Mexico<br>forcible_rape=%{x}<br>burglary=%{y}<br>population=%{marker.size}<extra></extra>",
         "hovertext": [
          "New Mexico"
         ],
         "legendgroup": "New Mexico",
         "marker": {
          "color": "#EF553B",
          "size": [
           1916538
          ],
          "sizemode": "area",
          "sizeref": 5593.00859375,
          "symbol": "circle"
         },
         "mode": "markers",
         "name": "New Mexico",
         "orientation": "v",
         "showlegend": true,
         "type": "scatter",
         "x": [
          54.1
         ],
         "xaxis": "x",
         "y": [
          1093.9
         ],
         "yaxis": "y"
        },
        {
         "hovertemplate": "<b>%{hovertext}</b><br><br>state=New York<br>forcible_rape=%{x}<br>burglary=%{y}<br>population=%{marker.size}<extra></extra>",
         "hovertext": [
          "New York"
         ],
         "legendgroup": "New York",
         "marker": {
          "color": "#00cc96",
          "size": [
           19330891
          ],
          "sizemode": "area",
          "sizeref": 5593.00859375,
          "symbol": "circle"
         },
         "mode": "markers",
         "name": "New York",
         "orientation": "v",
         "showlegend": true,
         "type": "scatter",
         "x": [
          18.9
         ],
         "xaxis": "x",
         "y": [
          353.3
         ],
         "yaxis": "y"
        },
        {
         "hovertemplate": "<b>%{hovertext}</b><br><br>state=North Carolina<br>forcible_rape=%{x}<br>burglary=%{y}<br>population=%{marker.size}<extra></extra>",
         "hovertext": [
          "North Carolina"
         ],
         "legendgroup": "North Carolina",
         "marker": {
          "color": "#ab63fa",
          "size": [
           8669452
          ],
          "sizemode": "area",
          "sizeref": 5593.00859375,
          "symbol": "circle"
         },
         "mode": "markers",
         "name": "North Carolina",
         "orientation": "v",
         "showlegend": true,
         "type": "scatter",
         "x": [
          26.5
         ],
         "xaxis": "x",
         "y": [
          1201.1
         ],
         "yaxis": "y"
        },
        {
         "hovertemplate": "<b>%{hovertext}</b><br><br>state=North Dakota<br>forcible_rape=%{x}<br>burglary=%{y}<br>population=%{marker.size}<extra></extra>",
         "hovertext": [
          "North Dakota"
         ],
         "legendgroup": "North Dakota",
         "marker": {
          "color": "#FFA15A",
          "size": [
           635365
          ],
          "sizemode": "area",
          "sizeref": 5593.00859375,
          "symbol": "circle"
         },
         "mode": "markers",
         "name": "North Dakota",
         "orientation": "v",
         "showlegend": true,
         "type": "scatter",
         "x": [
          24.2
         ],
         "xaxis": "x",
         "y": [
          311.9
         ],
         "yaxis": "y"
        },
        {
         "hovertemplate": "<b>%{hovertext}</b><br><br>state=Ohio<br>forcible_rape=%{x}<br>burglary=%{y}<br>population=%{marker.size}<extra></extra>",
         "hovertext": [
          "Ohio"
         ],
         "legendgroup": "Ohio",
         "marker": {
          "color": "#19d3f3",
          "size": [
           11475262
          ],
          "sizemode": "area",
          "sizeref": 5593.00859375,
          "symbol": "circle"
         },
         "mode": "markers",
         "name": "Ohio",
         "orientation": "v",
         "showlegend": true,
         "type": "scatter",
         "x": [
          39.8
         ],
         "xaxis": "x",
         "y": [
          872.8
         ],
         "yaxis": "y"
        },
        {
         "hovertemplate": "<b>%{hovertext}</b><br><br>state=Oklahoma<br>forcible_rape=%{x}<br>burglary=%{y}<br>population=%{marker.size}<extra></extra>",
         "hovertext": [
          "Oklahoma"
         ],
         "legendgroup": "Oklahoma",
         "marker": {
          "color": "#FF6692",
          "size": [
           3532769
          ],
          "sizemode": "area",
          "sizeref": 5593.00859375,
          "symbol": "circle"
         },
         "mode": "markers",
         "name": "Oklahoma",
         "orientation": "v",
         "showlegend": true,
         "type": "scatter",
         "x": [
          41.7
         ],
         "xaxis": "x",
         "y": [
          1006
         ],
         "yaxis": "y"
        },
        {
         "hovertemplate": "<b>%{hovertext}</b><br><br>state=Oregon<br>forcible_rape=%{x}<br>burglary=%{y}<br>population=%{marker.size}<extra></extra>",
         "hovertext": [
          "Oregon"
         ],
         "legendgroup": "Oregon",
         "marker": {
          "color": "#B6E880",
          "size": [
           3617869
          ],
          "sizemode": "area",
          "sizeref": 5593.00859375,
          "symbol": "circle"
         },
         "mode": "markers",
         "name": "Oregon",
         "orientation": "v",
         "showlegend": true,
         "type": "scatter",
         "x": [
          34.8
         ],
         "xaxis": "x",
         "y": [
          758.6
         ],
         "yaxis": "y"
        },
        {
         "hovertemplate": "<b>%{hovertext}</b><br><br>state=Pennsylvania<br>forcible_rape=%{x}<br>burglary=%{y}<br>population=%{marker.size}<extra></extra>",
         "hovertext": [
          "Pennsylvania"
         ],
         "legendgroup": "Pennsylvania",
         "marker": {
          "color": "#FF97FF",
          "size": [
           12418161
          ],
          "sizemode": "area",
          "sizeref": 5593.00859375,
          "symbol": "circle"
         },
         "mode": "markers",
         "name": "Pennsylvania",
         "orientation": "v",
         "showlegend": true,
         "type": "scatter",
         "x": [
          28.9
         ],
         "xaxis": "x",
         "y": [
          451.6
         ],
         "yaxis": "y"
        },
        {
         "hovertemplate": "<b>%{hovertext}</b><br><br>state=Rhode Island<br>forcible_rape=%{x}<br>burglary=%{y}<br>population=%{marker.size}<extra></extra>",
         "hovertext": [
          "Rhode Island"
         ],
         "legendgroup": "Rhode Island",
         "marker": {
          "color": "#FECB52",
          "size": [
           1064989
          ],
          "sizemode": "area",
          "sizeref": 5593.00859375,
          "symbol": "circle"
         },
         "mode": "markers",
         "name": "Rhode Island",
         "orientation": "v",
         "showlegend": true,
         "type": "scatter",
         "x": [
          29.8
         ],
         "xaxis": "x",
         "y": [
          494.2
         ],
         "yaxis": "y"
        },
        {
         "hovertemplate": "<b>%{hovertext}</b><br><br>state=South Carolina<br>forcible_rape=%{x}<br>burglary=%{y}<br>population=%{marker.size}<extra></extra>",
         "hovertext": [
          "South Carolina"
         ],
         "legendgroup": "South Carolina",
         "marker": {
          "color": "#636efa",
          "size": [
           4256199
          ],
          "sizemode": "area",
          "sizeref": 5593.00859375,
          "symbol": "circle"
         },
         "mode": "markers",
         "name": "South Carolina",
         "orientation": "v",
         "showlegend": true,
         "type": "scatter",
         "x": [
          42.5
         ],
         "xaxis": "x",
         "y": [
          1000.9
         ],
         "yaxis": "y"
        },
        {
         "hovertemplate": "<b>%{hovertext}</b><br><br>state=South Dakota<br>forcible_rape=%{x}<br>burglary=%{y}<br>population=%{marker.size}<extra></extra>",
         "hovertext": [
          "South Dakota"
         ],
         "legendgroup": "South Dakota",
         "marker": {
          "color": "#EF553B",
          "size": [
           780084
          ],
          "sizemode": "area",
          "sizeref": 5593.00859375,
          "symbol": "circle"
         },
         "mode": "markers",
         "name": "South Dakota",
         "orientation": "v",
         "showlegend": true,
         "type": "scatter",
         "x": [
          46.7
         ],
         "xaxis": "x",
         "y": [
          324.4
         ],
         "yaxis": "y"
        },
        {
         "hovertemplate": "<b>%{hovertext}</b><br><br>state=Tennessee<br>forcible_rape=%{x}<br>burglary=%{y}<br>population=%{marker.size}<extra></extra>",
         "hovertext": [
          "Tennessee"
         ],
         "legendgroup": "Tennessee",
         "marker": {
          "color": "#00cc96",
          "size": [
           5995748
          ],
          "sizemode": "area",
          "sizeref": 5593.00859375,
          "symbol": "circle"
         },
         "mode": "markers",
         "name": "Tennessee",
         "orientation": "v",
         "showlegend": true,
         "type": "scatter",
         "x": [
          36.4
         ],
         "xaxis": "x",
         "y": [
          1026.9
         ],
         "yaxis": "y"
        },
        {
         "hovertemplate": "<b>%{hovertext}</b><br><br>state=Texas<br>forcible_rape=%{x}<br>burglary=%{y}<br>population=%{marker.size}<extra></extra>",
         "hovertext": [
          "Texas"
         ],
         "legendgroup": "Texas",
         "marker": {
          "color": "#ab63fa",
          "size": [
           22801920
          ],
          "sizemode": "area",
          "sizeref": 5593.00859375,
          "symbol": "circle"
         },
         "mode": "markers",
         "name": "Texas",
         "orientation": "v",
         "showlegend": true,
         "type": "scatter",
         "x": [
          37.2
         ],
         "xaxis": "x",
         "y": [
          961.6
         ],
         "yaxis": "y"
        },
        {
         "hovertemplate": "<b>%{hovertext}</b><br><br>state=Utah<br>forcible_rape=%{x}<br>burglary=%{y}<br>population=%{marker.size}<extra></extra>",
         "hovertext": [
          "Utah"
         ],
         "legendgroup": "Utah",
         "marker": {
          "color": "#FFA15A",
          "size": [
           2499637
          ],
          "sizemode": "area",
          "sizeref": 5593.00859375,
          "symbol": "circle"
         },
         "mode": "markers",
         "name": "Utah",
         "orientation": "v",
         "showlegend": true,
         "type": "scatter",
         "x": [
          37.3
         ],
         "xaxis": "x",
         "y": [
          606.2
         ],
         "yaxis": "y"
        },
        {
         "hovertemplate": "<b>%{hovertext}</b><br><br>state=Vermont<br>forcible_rape=%{x}<br>burglary=%{y}<br>population=%{marker.size}<extra></extra>",
         "hovertext": [
          "Vermont"
         ],
         "legendgroup": "Vermont",
         "marker": {
          "color": "#19d3f3",
          "size": [
           618814
          ],
          "sizemode": "area",
          "sizeref": 5593.00859375,
          "symbol": "circle"
         },
         "mode": "markers",
         "name": "Vermont",
         "orientation": "v",
         "showlegend": true,
         "type": "scatter",
         "x": [
          23.3
         ],
         "xaxis": "x",
         "y": [
          491.8
         ],
         "yaxis": "y"
        },
        {
         "hovertemplate": "<b>%{hovertext}</b><br><br>state=Virginia<br>forcible_rape=%{x}<br>burglary=%{y}<br>population=%{marker.size}<extra></extra>",
         "hovertext": [
          "Virginia"
         ],
         "legendgroup": "Virginia",
         "marker": {
          "color": "#FF6692",
          "size": [
           7563887
          ],
          "sizemode": "area",
          "sizeref": 5593.00859375,
          "symbol": "circle"
         },
         "mode": "markers",
         "name": "Virginia",
         "orientation": "v",
         "showlegend": true,
         "type": "scatter",
         "x": [
          22.7
         ],
         "xaxis": "x",
         "y": [
          392.1
         ],
         "yaxis": "y"
        },
        {
         "hovertemplate": "<b>%{hovertext}</b><br><br>state=Washington<br>forcible_rape=%{x}<br>burglary=%{y}<br>population=%{marker.size}<extra></extra>",
         "hovertext": [
          "Washington"
         ],
         "legendgroup": "Washington",
         "marker": {
          "color": "#B6E880",
          "size": [
           6261282
          ],
          "sizemode": "area",
          "sizeref": 5593.00859375,
          "symbol": "circle"
         },
         "mode": "markers",
         "name": "Washington",
         "orientation": "v",
         "showlegend": true,
         "type": "scatter",
         "x": [
          44.7
         ],
         "xaxis": "x",
         "y": [
          959.7
         ],
         "yaxis": "y"
        },
        {
         "hovertemplate": "<b>%{hovertext}</b><br><br>state=West Virginia<br>forcible_rape=%{x}<br>burglary=%{y}<br>population=%{marker.size}<extra></extra>",
         "hovertext": [
          "West Virginia"
         ],
         "legendgroup": "West Virginia",
         "marker": {
          "color": "#FF97FF",
          "size": [
           1803920
          ],
          "sizemode": "area",
          "sizeref": 5593.00859375,
          "symbol": "circle"
         },
         "mode": "markers",
         "name": "West Virginia",
         "orientation": "v",
         "showlegend": true,
         "type": "scatter",
         "x": [
          17.7
         ],
         "xaxis": "x",
         "y": [
          621.2
         ],
         "yaxis": "y"
        },
        {
         "hovertemplate": "<b>%{hovertext}</b><br><br>state=Wisconsin<br>forcible_rape=%{x}<br>burglary=%{y}<br>population=%{marker.size}<extra></extra>",
         "hovertext": [
          "Wisconsin"
         ],
         "legendgroup": "Wisconsin",
         "marker": {
          "color": "#FECB52",
          "size": [
           5541443
          ],
          "sizemode": "area",
          "sizeref": 5593.00859375,
          "symbol": "circle"
         },
         "mode": "markers",
         "name": "Wisconsin",
         "orientation": "v",
         "showlegend": true,
         "type": "scatter",
         "x": [
          20.6
         ],
         "xaxis": "x",
         "y": [
          440.8
         ],
         "yaxis": "y"
        },
        {
         "hovertemplate": "<b>%{hovertext}</b><br><br>state=Wyoming<br>forcible_rape=%{x}<br>burglary=%{y}<br>population=%{marker.size}<extra></extra>",
         "hovertext": [
          "Wyoming"
         ],
         "legendgroup": "Wyoming",
         "marker": {
          "color": "#636efa",
          "size": [
           506242
          ],
          "sizemode": "area",
          "sizeref": 5593.00859375,
          "symbol": "circle"
         },
         "mode": "markers",
         "name": "Wyoming",
         "orientation": "v",
         "showlegend": true,
         "type": "scatter",
         "x": [
          24
         ],
         "xaxis": "x",
         "y": [
          476.3
         ],
         "yaxis": "y"
        }
       ],
       "layout": {
        "legend": {
         "itemsizing": "constant",
         "title": {
          "text": "state"
         },
         "tracegroupgap": 0
        },
        "margin": {
         "t": 60
        },
        "template": {
         "data": {
          "bar": [
           {
            "error_x": {
             "color": "#2a3f5f"
            },
            "error_y": {
             "color": "#2a3f5f"
            },
            "marker": {
             "line": {
              "color": "#E5ECF6",
              "width": 0.5
             },
             "pattern": {
              "fillmode": "overlay",
              "size": 10,
              "solidity": 0.2
             }
            },
            "type": "bar"
           }
          ],
          "barpolar": [
           {
            "marker": {
             "line": {
              "color": "#E5ECF6",
              "width": 0.5
             },
             "pattern": {
              "fillmode": "overlay",
              "size": 10,
              "solidity": 0.2
             }
            },
            "type": "barpolar"
           }
          ],
          "carpet": [
           {
            "aaxis": {
             "endlinecolor": "#2a3f5f",
             "gridcolor": "white",
             "linecolor": "white",
             "minorgridcolor": "white",
             "startlinecolor": "#2a3f5f"
            },
            "baxis": {
             "endlinecolor": "#2a3f5f",
             "gridcolor": "white",
             "linecolor": "white",
             "minorgridcolor": "white",
             "startlinecolor": "#2a3f5f"
            },
            "type": "carpet"
           }
          ],
          "choropleth": [
           {
            "colorbar": {
             "outlinewidth": 0,
             "ticks": ""
            },
            "type": "choropleth"
           }
          ],
          "contour": [
           {
            "colorbar": {
             "outlinewidth": 0,
             "ticks": ""
            },
            "colorscale": [
             [
              0,
              "#0d0887"
             ],
             [
              0.1111111111111111,
              "#46039f"
             ],
             [
              0.2222222222222222,
              "#7201a8"
             ],
             [
              0.3333333333333333,
              "#9c179e"
             ],
             [
              0.4444444444444444,
              "#bd3786"
             ],
             [
              0.5555555555555556,
              "#d8576b"
             ],
             [
              0.6666666666666666,
              "#ed7953"
             ],
             [
              0.7777777777777778,
              "#fb9f3a"
             ],
             [
              0.8888888888888888,
              "#fdca26"
             ],
             [
              1,
              "#f0f921"
             ]
            ],
            "type": "contour"
           }
          ],
          "contourcarpet": [
           {
            "colorbar": {
             "outlinewidth": 0,
             "ticks": ""
            },
            "type": "contourcarpet"
           }
          ],
          "heatmap": [
           {
            "colorbar": {
             "outlinewidth": 0,
             "ticks": ""
            },
            "colorscale": [
             [
              0,
              "#0d0887"
             ],
             [
              0.1111111111111111,
              "#46039f"
             ],
             [
              0.2222222222222222,
              "#7201a8"
             ],
             [
              0.3333333333333333,
              "#9c179e"
             ],
             [
              0.4444444444444444,
              "#bd3786"
             ],
             [
              0.5555555555555556,
              "#d8576b"
             ],
             [
              0.6666666666666666,
              "#ed7953"
             ],
             [
              0.7777777777777778,
              "#fb9f3a"
             ],
             [
              0.8888888888888888,
              "#fdca26"
             ],
             [
              1,
              "#f0f921"
             ]
            ],
            "type": "heatmap"
           }
          ],
          "heatmapgl": [
           {
            "colorbar": {
             "outlinewidth": 0,
             "ticks": ""
            },
            "colorscale": [
             [
              0,
              "#0d0887"
             ],
             [
              0.1111111111111111,
              "#46039f"
             ],
             [
              0.2222222222222222,
              "#7201a8"
             ],
             [
              0.3333333333333333,
              "#9c179e"
             ],
             [
              0.4444444444444444,
              "#bd3786"
             ],
             [
              0.5555555555555556,
              "#d8576b"
             ],
             [
              0.6666666666666666,
              "#ed7953"
             ],
             [
              0.7777777777777778,
              "#fb9f3a"
             ],
             [
              0.8888888888888888,
              "#fdca26"
             ],
             [
              1,
              "#f0f921"
             ]
            ],
            "type": "heatmapgl"
           }
          ],
          "histogram": [
           {
            "marker": {
             "pattern": {
              "fillmode": "overlay",
              "size": 10,
              "solidity": 0.2
             }
            },
            "type": "histogram"
           }
          ],
          "histogram2d": [
           {
            "colorbar": {
             "outlinewidth": 0,
             "ticks": ""
            },
            "colorscale": [
             [
              0,
              "#0d0887"
             ],
             [
              0.1111111111111111,
              "#46039f"
             ],
             [
              0.2222222222222222,
              "#7201a8"
             ],
             [
              0.3333333333333333,
              "#9c179e"
             ],
             [
              0.4444444444444444,
              "#bd3786"
             ],
             [
              0.5555555555555556,
              "#d8576b"
             ],
             [
              0.6666666666666666,
              "#ed7953"
             ],
             [
              0.7777777777777778,
              "#fb9f3a"
             ],
             [
              0.8888888888888888,
              "#fdca26"
             ],
             [
              1,
              "#f0f921"
             ]
            ],
            "type": "histogram2d"
           }
          ],
          "histogram2dcontour": [
           {
            "colorbar": {
             "outlinewidth": 0,
             "ticks": ""
            },
            "colorscale": [
             [
              0,
              "#0d0887"
             ],
             [
              0.1111111111111111,
              "#46039f"
             ],
             [
              0.2222222222222222,
              "#7201a8"
             ],
             [
              0.3333333333333333,
              "#9c179e"
             ],
             [
              0.4444444444444444,
              "#bd3786"
             ],
             [
              0.5555555555555556,
              "#d8576b"
             ],
             [
              0.6666666666666666,
              "#ed7953"
             ],
             [
              0.7777777777777778,
              "#fb9f3a"
             ],
             [
              0.8888888888888888,
              "#fdca26"
             ],
             [
              1,
              "#f0f921"
             ]
            ],
            "type": "histogram2dcontour"
           }
          ],
          "mesh3d": [
           {
            "colorbar": {
             "outlinewidth": 0,
             "ticks": ""
            },
            "type": "mesh3d"
           }
          ],
          "parcoords": [
           {
            "line": {
             "colorbar": {
              "outlinewidth": 0,
              "ticks": ""
             }
            },
            "type": "parcoords"
           }
          ],
          "pie": [
           {
            "automargin": true,
            "type": "pie"
           }
          ],
          "scatter": [
           {
            "marker": {
             "colorbar": {
              "outlinewidth": 0,
              "ticks": ""
             }
            },
            "type": "scatter"
           }
          ],
          "scatter3d": [
           {
            "line": {
             "colorbar": {
              "outlinewidth": 0,
              "ticks": ""
             }
            },
            "marker": {
             "colorbar": {
              "outlinewidth": 0,
              "ticks": ""
             }
            },
            "type": "scatter3d"
           }
          ],
          "scattercarpet": [
           {
            "marker": {
             "colorbar": {
              "outlinewidth": 0,
              "ticks": ""
             }
            },
            "type": "scattercarpet"
           }
          ],
          "scattergeo": [
           {
            "marker": {
             "colorbar": {
              "outlinewidth": 0,
              "ticks": ""
             }
            },
            "type": "scattergeo"
           }
          ],
          "scattergl": [
           {
            "marker": {
             "colorbar": {
              "outlinewidth": 0,
              "ticks": ""
             }
            },
            "type": "scattergl"
           }
          ],
          "scattermapbox": [
           {
            "marker": {
             "colorbar": {
              "outlinewidth": 0,
              "ticks": ""
             }
            },
            "type": "scattermapbox"
           }
          ],
          "scatterpolar": [
           {
            "marker": {
             "colorbar": {
              "outlinewidth": 0,
              "ticks": ""
             }
            },
            "type": "scatterpolar"
           }
          ],
          "scatterpolargl": [
           {
            "marker": {
             "colorbar": {
              "outlinewidth": 0,
              "ticks": ""
             }
            },
            "type": "scatterpolargl"
           }
          ],
          "scatterternary": [
           {
            "marker": {
             "colorbar": {
              "outlinewidth": 0,
              "ticks": ""
             }
            },
            "type": "scatterternary"
           }
          ],
          "surface": [
           {
            "colorbar": {
             "outlinewidth": 0,
             "ticks": ""
            },
            "colorscale": [
             [
              0,
              "#0d0887"
             ],
             [
              0.1111111111111111,
              "#46039f"
             ],
             [
              0.2222222222222222,
              "#7201a8"
             ],
             [
              0.3333333333333333,
              "#9c179e"
             ],
             [
              0.4444444444444444,
              "#bd3786"
             ],
             [
              0.5555555555555556,
              "#d8576b"
             ],
             [
              0.6666666666666666,
              "#ed7953"
             ],
             [
              0.7777777777777778,
              "#fb9f3a"
             ],
             [
              0.8888888888888888,
              "#fdca26"
             ],
             [
              1,
              "#f0f921"
             ]
            ],
            "type": "surface"
           }
          ],
          "table": [
           {
            "cells": {
             "fill": {
              "color": "#EBF0F8"
             },
             "line": {
              "color": "white"
             }
            },
            "header": {
             "fill": {
              "color": "#C8D4E3"
             },
             "line": {
              "color": "white"
             }
            },
            "type": "table"
           }
          ]
         },
         "layout": {
          "annotationdefaults": {
           "arrowcolor": "#2a3f5f",
           "arrowhead": 0,
           "arrowwidth": 1
          },
          "autotypenumbers": "strict",
          "coloraxis": {
           "colorbar": {
            "outlinewidth": 0,
            "ticks": ""
           }
          },
          "colorscale": {
           "diverging": [
            [
             0,
             "#8e0152"
            ],
            [
             0.1,
             "#c51b7d"
            ],
            [
             0.2,
             "#de77ae"
            ],
            [
             0.3,
             "#f1b6da"
            ],
            [
             0.4,
             "#fde0ef"
            ],
            [
             0.5,
             "#f7f7f7"
            ],
            [
             0.6,
             "#e6f5d0"
            ],
            [
             0.7,
             "#b8e186"
            ],
            [
             0.8,
             "#7fbc41"
            ],
            [
             0.9,
             "#4d9221"
            ],
            [
             1,
             "#276419"
            ]
           ],
           "sequential": [
            [
             0,
             "#0d0887"
            ],
            [
             0.1111111111111111,
             "#46039f"
            ],
            [
             0.2222222222222222,
             "#7201a8"
            ],
            [
             0.3333333333333333,
             "#9c179e"
            ],
            [
             0.4444444444444444,
             "#bd3786"
            ],
            [
             0.5555555555555556,
             "#d8576b"
            ],
            [
             0.6666666666666666,
             "#ed7953"
            ],
            [
             0.7777777777777778,
             "#fb9f3a"
            ],
            [
             0.8888888888888888,
             "#fdca26"
            ],
            [
             1,
             "#f0f921"
            ]
           ],
           "sequentialminus": [
            [
             0,
             "#0d0887"
            ],
            [
             0.1111111111111111,
             "#46039f"
            ],
            [
             0.2222222222222222,
             "#7201a8"
            ],
            [
             0.3333333333333333,
             "#9c179e"
            ],
            [
             0.4444444444444444,
             "#bd3786"
            ],
            [
             0.5555555555555556,
             "#d8576b"
            ],
            [
             0.6666666666666666,
             "#ed7953"
            ],
            [
             0.7777777777777778,
             "#fb9f3a"
            ],
            [
             0.8888888888888888,
             "#fdca26"
            ],
            [
             1,
             "#f0f921"
            ]
           ]
          },
          "colorway": [
           "#636efa",
           "#EF553B",
           "#00cc96",
           "#ab63fa",
           "#FFA15A",
           "#19d3f3",
           "#FF6692",
           "#B6E880",
           "#FF97FF",
           "#FECB52"
          ],
          "font": {
           "color": "#2a3f5f"
          },
          "geo": {
           "bgcolor": "white",
           "lakecolor": "white",
           "landcolor": "#E5ECF6",
           "showlakes": true,
           "showland": true,
           "subunitcolor": "white"
          },
          "hoverlabel": {
           "align": "left"
          },
          "hovermode": "closest",
          "mapbox": {
           "style": "light"
          },
          "paper_bgcolor": "white",
          "plot_bgcolor": "#E5ECF6",
          "polar": {
           "angularaxis": {
            "gridcolor": "white",
            "linecolor": "white",
            "ticks": ""
           },
           "bgcolor": "#E5ECF6",
           "radialaxis": {
            "gridcolor": "white",
            "linecolor": "white",
            "ticks": ""
           }
          },
          "scene": {
           "xaxis": {
            "backgroundcolor": "#E5ECF6",
            "gridcolor": "white",
            "gridwidth": 2,
            "linecolor": "white",
            "showbackground": true,
            "ticks": "",
            "zerolinecolor": "white"
           },
           "yaxis": {
            "backgroundcolor": "#E5ECF6",
            "gridcolor": "white",
            "gridwidth": 2,
            "linecolor": "white",
            "showbackground": true,
            "ticks": "",
            "zerolinecolor": "white"
           },
           "zaxis": {
            "backgroundcolor": "#E5ECF6",
            "gridcolor": "white",
            "gridwidth": 2,
            "linecolor": "white",
            "showbackground": true,
            "ticks": "",
            "zerolinecolor": "white"
           }
          },
          "shapedefaults": {
           "line": {
            "color": "#2a3f5f"
           }
          },
          "ternary": {
           "aaxis": {
            "gridcolor": "white",
            "linecolor": "white",
            "ticks": ""
           },
           "baxis": {
            "gridcolor": "white",
            "linecolor": "white",
            "ticks": ""
           },
           "bgcolor": "#E5ECF6",
           "caxis": {
            "gridcolor": "white",
            "linecolor": "white",
            "ticks": ""
           }
          },
          "title": {
           "x": 0.05
          },
          "xaxis": {
           "automargin": true,
           "gridcolor": "white",
           "linecolor": "white",
           "ticks": "",
           "title": {
            "standoff": 15
           },
           "zerolinecolor": "white",
           "zerolinewidth": 2
          },
          "yaxis": {
           "automargin": true,
           "gridcolor": "white",
           "linecolor": "white",
           "ticks": "",
           "title": {
            "standoff": 15
           },
           "zerolinecolor": "white",
           "zerolinewidth": 2
          }
         }
        },
        "xaxis": {
         "anchor": "y",
         "domain": [
          0,
          1
         ],
         "title": {
          "text": "forcible_rape"
         },
         "type": "log"
        },
        "yaxis": {
         "anchor": "x",
         "domain": [
          0,
          1
         ],
         "title": {
          "text": "burglary"
         }
        }
       }
      },
      "text/html": [
       "<div>                            <div id=\"d8b12a31-ed54-4427-8e85-ac4165a4fb96\" class=\"plotly-graph-div\" style=\"height:525px; width:100%;\"></div>            <script type=\"text/javascript\">                require([\"plotly\"], function(Plotly) {                    window.PLOTLYENV=window.PLOTLYENV || {};                                    if (document.getElementById(\"d8b12a31-ed54-4427-8e85-ac4165a4fb96\")) {                    Plotly.newPlot(                        \"d8b12a31-ed54-4427-8e85-ac4165a4fb96\",                        [{\"hovertemplate\":\"<b>%{hovertext}</b><br><br>state=Alabama<br>forcible_rape=%{x}<br>burglary=%{y}<br>population=%{marker.size}<extra></extra>\",\"hovertext\":[\"Alabama\"],\"legendgroup\":\"Alabama\",\"marker\":{\"color\":\"#636efa\",\"size\":[4545049],\"sizemode\":\"area\",\"sizeref\":5593.00859375,\"symbol\":\"circle\"},\"mode\":\"markers\",\"name\":\"Alabama\",\"orientation\":\"v\",\"showlegend\":true,\"x\":[34.3],\"xaxis\":\"x\",\"y\":[953.8],\"yaxis\":\"y\",\"type\":\"scatter\"},{\"hovertemplate\":\"<b>%{hovertext}</b><br><br>state=Alaska<br>forcible_rape=%{x}<br>burglary=%{y}<br>population=%{marker.size}<extra></extra>\",\"hovertext\":[\"Alaska\"],\"legendgroup\":\"Alaska\",\"marker\":{\"color\":\"#EF553B\",\"size\":[669488],\"sizemode\":\"area\",\"sizeref\":5593.00859375,\"symbol\":\"circle\"},\"mode\":\"markers\",\"name\":\"Alaska\",\"orientation\":\"v\",\"showlegend\":true,\"x\":[81.1],\"xaxis\":\"x\",\"y\":[622.5],\"yaxis\":\"y\",\"type\":\"scatter\"},{\"hovertemplate\":\"<b>%{hovertext}</b><br><br>state=Arizona<br>forcible_rape=%{x}<br>burglary=%{y}<br>population=%{marker.size}<extra></extra>\",\"hovertext\":[\"Arizona\"],\"legendgroup\":\"Arizona\",\"marker\":{\"color\":\"#00cc96\",\"size\":[5974834],\"sizemode\":\"area\",\"sizeref\":5593.00859375,\"symbol\":\"circle\"},\"mode\":\"markers\",\"name\":\"Arizona\",\"orientation\":\"v\",\"showlegend\":true,\"x\":[33.8],\"xaxis\":\"x\",\"y\":[948.4],\"yaxis\":\"y\",\"type\":\"scatter\"},{\"hovertemplate\":\"<b>%{hovertext}</b><br><br>state=Arkansas<br>forcible_rape=%{x}<br>burglary=%{y}<br>population=%{marker.size}<extra></extra>\",\"hovertext\":[\"Arkansas\"],\"legendgroup\":\"Arkansas\",\"marker\":{\"color\":\"#ab63fa\",\"size\":[2776221],\"sizemode\":\"area\",\"sizeref\":5593.00859375,\"symbol\":\"circle\"},\"mode\":\"markers\",\"name\":\"Arkansas\",\"orientation\":\"v\",\"showlegend\":true,\"x\":[42.9],\"xaxis\":\"x\",\"y\":[1084.6],\"yaxis\":\"y\",\"type\":\"scatter\"},{\"hovertemplate\":\"<b>%{hovertext}</b><br><br>state=California<br>forcible_rape=%{x}<br>burglary=%{y}<br>population=%{marker.size}<extra></extra>\",\"hovertext\":[\"California\"],\"legendgroup\":\"California\",\"marker\":{\"color\":\"#FFA15A\",\"size\":[35795255],\"sizemode\":\"area\",\"sizeref\":5593.00859375,\"symbol\":\"circle\"},\"mode\":\"markers\",\"name\":\"California\",\"orientation\":\"v\",\"showlegend\":true,\"x\":[26.0],\"xaxis\":\"x\",\"y\":[693.3],\"yaxis\":\"y\",\"type\":\"scatter\"},{\"hovertemplate\":\"<b>%{hovertext}</b><br><br>state=Colorado<br>forcible_rape=%{x}<br>burglary=%{y}<br>population=%{marker.size}<extra></extra>\",\"hovertext\":[\"Colorado\"],\"legendgroup\":\"Colorado\",\"marker\":{\"color\":\"#19d3f3\",\"size\":[4660780],\"sizemode\":\"area\",\"sizeref\":5593.00859375,\"symbol\":\"circle\"},\"mode\":\"markers\",\"name\":\"Colorado\",\"orientation\":\"v\",\"showlegend\":true,\"x\":[43.4],\"xaxis\":\"x\",\"y\":[744.8],\"yaxis\":\"y\",\"type\":\"scatter\"},{\"hovertemplate\":\"<b>%{hovertext}</b><br><br>state=Connecticut<br>forcible_rape=%{x}<br>burglary=%{y}<br>population=%{marker.size}<extra></extra>\",\"hovertext\":[\"Connecticut\"],\"legendgroup\":\"Connecticut\",\"marker\":{\"color\":\"#FF6692\",\"size\":[3477416],\"sizemode\":\"area\",\"sizeref\":5593.00859375,\"symbol\":\"circle\"},\"mode\":\"markers\",\"name\":\"Connecticut\",\"orientation\":\"v\",\"showlegend\":true,\"x\":[20.0],\"xaxis\":\"x\",\"y\":[437.1],\"yaxis\":\"y\",\"type\":\"scatter\"},{\"hovertemplate\":\"<b>%{hovertext}</b><br><br>state=Delaware<br>forcible_rape=%{x}<br>burglary=%{y}<br>population=%{marker.size}<extra></extra>\",\"hovertext\":[\"Delaware\"],\"legendgroup\":\"Delaware\",\"marker\":{\"color\":\"#B6E880\",\"size\":[839906],\"sizemode\":\"area\",\"sizeref\":5593.00859375,\"symbol\":\"circle\"},\"mode\":\"markers\",\"name\":\"Delaware\",\"orientation\":\"v\",\"showlegend\":true,\"x\":[44.7],\"xaxis\":\"x\",\"y\":[688.9],\"yaxis\":\"y\",\"type\":\"scatter\"},{\"hovertemplate\":\"<b>%{hovertext}</b><br><br>state=District of Columbia<br>forcible_rape=%{x}<br>burglary=%{y}<br>population=%{marker.size}<extra></extra>\",\"hovertext\":[\"District of Columbia\"],\"legendgroup\":\"District of Columbia\",\"marker\":{\"color\":\"#FF97FF\",\"size\":[582049],\"sizemode\":\"area\",\"sizeref\":5593.00859375,\"symbol\":\"circle\"},\"mode\":\"markers\",\"name\":\"District of Columbia\",\"orientation\":\"v\",\"showlegend\":true,\"x\":[30.2],\"xaxis\":\"x\",\"y\":[649.7],\"yaxis\":\"y\",\"type\":\"scatter\"},{\"hovertemplate\":\"<b>%{hovertext}</b><br><br>state=Florida<br>forcible_rape=%{x}<br>burglary=%{y}<br>population=%{marker.size}<extra></extra>\",\"hovertext\":[\"Florida\"],\"legendgroup\":\"Florida\",\"marker\":{\"color\":\"#FECB52\",\"size\":[17783868],\"sizemode\":\"area\",\"sizeref\":5593.00859375,\"symbol\":\"circle\"},\"mode\":\"markers\",\"name\":\"Florida\",\"orientation\":\"v\",\"showlegend\":true,\"x\":[37.1],\"xaxis\":\"x\",\"y\":[926.3],\"yaxis\":\"y\",\"type\":\"scatter\"},{\"hovertemplate\":\"<b>%{hovertext}</b><br><br>state=Georgia<br>forcible_rape=%{x}<br>burglary=%{y}<br>population=%{marker.size}<extra></extra>\",\"hovertext\":[\"Georgia\"],\"legendgroup\":\"Georgia\",\"marker\":{\"color\":\"#636efa\",\"size\":[9097428],\"sizemode\":\"area\",\"sizeref\":5593.00859375,\"symbol\":\"circle\"},\"mode\":\"markers\",\"name\":\"Georgia\",\"orientation\":\"v\",\"showlegend\":true,\"x\":[23.6],\"xaxis\":\"x\",\"y\":[931.0],\"yaxis\":\"y\",\"type\":\"scatter\"},{\"hovertemplate\":\"<b>%{hovertext}</b><br><br>state=Hawaii<br>forcible_rape=%{x}<br>burglary=%{y}<br>population=%{marker.size}<extra></extra>\",\"hovertext\":[\"Hawaii\"],\"legendgroup\":\"Hawaii\",\"marker\":{\"color\":\"#EF553B\",\"size\":[1266117],\"sizemode\":\"area\",\"sizeref\":5593.00859375,\"symbol\":\"circle\"},\"mode\":\"markers\",\"name\":\"Hawaii\",\"orientation\":\"v\",\"showlegend\":true,\"x\":[26.9],\"xaxis\":\"x\",\"y\":[767.9],\"yaxis\":\"y\",\"type\":\"scatter\"},{\"hovertemplate\":\"<b>%{hovertext}</b><br><br>state=Idaho<br>forcible_rape=%{x}<br>burglary=%{y}<br>population=%{marker.size}<extra></extra>\",\"hovertext\":[\"Idaho\"],\"legendgroup\":\"Idaho\",\"marker\":{\"color\":\"#00cc96\",\"size\":[1425862],\"sizemode\":\"area\",\"sizeref\":5593.00859375,\"symbol\":\"circle\"},\"mode\":\"markers\",\"name\":\"Idaho\",\"orientation\":\"v\",\"showlegend\":true,\"x\":[40.4],\"xaxis\":\"x\",\"y\":[564.4],\"yaxis\":\"y\",\"type\":\"scatter\"},{\"hovertemplate\":\"<b>%{hovertext}</b><br><br>state=Illinois<br>forcible_rape=%{x}<br>burglary=%{y}<br>population=%{marker.size}<extra></extra>\",\"hovertext\":[\"Illinois\"],\"legendgroup\":\"Illinois\",\"marker\":{\"color\":\"#ab63fa\",\"size\":[12674452],\"sizemode\":\"area\",\"sizeref\":5593.00859375,\"symbol\":\"circle\"},\"mode\":\"markers\",\"name\":\"Illinois\",\"orientation\":\"v\",\"showlegend\":true,\"x\":[33.7],\"xaxis\":\"x\",\"y\":[606.9],\"yaxis\":\"y\",\"type\":\"scatter\"},{\"hovertemplate\":\"<b>%{hovertext}</b><br><br>state=Indiana<br>forcible_rape=%{x}<br>burglary=%{y}<br>population=%{marker.size}<extra></extra>\",\"hovertext\":[\"Indiana\"],\"legendgroup\":\"Indiana\",\"marker\":{\"color\":\"#FFA15A\",\"size\":[6253120],\"sizemode\":\"area\",\"sizeref\":5593.00859375,\"symbol\":\"circle\"},\"mode\":\"markers\",\"name\":\"Indiana\",\"orientation\":\"v\",\"showlegend\":true,\"x\":[29.6],\"xaxis\":\"x\",\"y\":[697.6],\"yaxis\":\"y\",\"type\":\"scatter\"},{\"hovertemplate\":\"<b>%{hovertext}</b><br><br>state=Iowa<br>forcible_rape=%{x}<br>burglary=%{y}<br>population=%{marker.size}<extra></extra>\",\"hovertext\":[\"Iowa\"],\"legendgroup\":\"Iowa\",\"marker\":{\"color\":\"#19d3f3\",\"size\":[2949450],\"sizemode\":\"area\",\"sizeref\":5593.00859375,\"symbol\":\"circle\"},\"mode\":\"markers\",\"name\":\"Iowa\",\"orientation\":\"v\",\"showlegend\":true,\"x\":[27.9],\"xaxis\":\"x\",\"y\":[606.4],\"yaxis\":\"y\",\"type\":\"scatter\"},{\"hovertemplate\":\"<b>%{hovertext}</b><br><br>state=Kansas<br>forcible_rape=%{x}<br>burglary=%{y}<br>population=%{marker.size}<extra></extra>\",\"hovertext\":[\"Kansas\"],\"legendgroup\":\"Kansas\",\"marker\":{\"color\":\"#FF6692\",\"size\":[2741771],\"sizemode\":\"area\",\"sizeref\":5593.00859375,\"symbol\":\"circle\"},\"mode\":\"markers\",\"name\":\"Kansas\",\"orientation\":\"v\",\"showlegend\":true,\"x\":[38.4],\"xaxis\":\"x\",\"y\":[689.2],\"yaxis\":\"y\",\"type\":\"scatter\"},{\"hovertemplate\":\"<b>%{hovertext}</b><br><br>state=Kentucky<br>forcible_rape=%{x}<br>burglary=%{y}<br>population=%{marker.size}<extra></extra>\",\"hovertext\":[\"Kentucky\"],\"legendgroup\":\"Kentucky\",\"marker\":{\"color\":\"#B6E880\",\"size\":[4182293],\"sizemode\":\"area\",\"sizeref\":5593.00859375,\"symbol\":\"circle\"},\"mode\":\"markers\",\"name\":\"Kentucky\",\"orientation\":\"v\",\"showlegend\":true,\"x\":[34.0],\"xaxis\":\"x\",\"y\":[634.0],\"yaxis\":\"y\",\"type\":\"scatter\"},{\"hovertemplate\":\"<b>%{hovertext}</b><br><br>state=Louisiana<br>forcible_rape=%{x}<br>burglary=%{y}<br>population=%{marker.size}<extra></extra>\",\"hovertext\":[\"Louisiana\"],\"legendgroup\":\"Louisiana\",\"marker\":{\"color\":\"#FF97FF\",\"size\":[4497691],\"sizemode\":\"area\",\"sizeref\":5593.00859375,\"symbol\":\"circle\"},\"mode\":\"markers\",\"name\":\"Louisiana\",\"orientation\":\"v\",\"showlegend\":true,\"x\":[31.4],\"xaxis\":\"x\",\"y\":[870.6],\"yaxis\":\"y\",\"type\":\"scatter\"},{\"hovertemplate\":\"<b>%{hovertext}</b><br><br>state=Maine<br>forcible_rape=%{x}<br>burglary=%{y}<br>population=%{marker.size}<extra></extra>\",\"hovertext\":[\"Maine\"],\"legendgroup\":\"Maine\",\"marker\":{\"color\":\"#FECB52\",\"size\":[1311631],\"sizemode\":\"area\",\"sizeref\":5593.00859375,\"symbol\":\"circle\"},\"mode\":\"markers\",\"name\":\"Maine\",\"orientation\":\"v\",\"showlegend\":true,\"x\":[24.7],\"xaxis\":\"x\",\"y\":[478.5],\"yaxis\":\"y\",\"type\":\"scatter\"},{\"hovertemplate\":\"<b>%{hovertext}</b><br><br>state=Maryland<br>forcible_rape=%{x}<br>burglary=%{y}<br>population=%{marker.size}<extra></extra>\",\"hovertext\":[\"Maryland\"],\"legendgroup\":\"Maryland\",\"marker\":{\"color\":\"#636efa\",\"size\":[5582520],\"sizemode\":\"area\",\"sizeref\":5593.00859375,\"symbol\":\"circle\"},\"mode\":\"markers\",\"name\":\"Maryland\",\"orientation\":\"v\",\"showlegend\":true,\"x\":[22.6],\"xaxis\":\"x\",\"y\":[641.4],\"yaxis\":\"y\",\"type\":\"scatter\"},{\"hovertemplate\":\"<b>%{hovertext}</b><br><br>state=Massachusetts<br>forcible_rape=%{x}<br>burglary=%{y}<br>population=%{marker.size}<extra></extra>\",\"hovertext\":[\"Massachusetts\"],\"legendgroup\":\"Massachusetts\",\"marker\":{\"color\":\"#EF553B\",\"size\":[6453031],\"sizemode\":\"area\",\"sizeref\":5593.00859375,\"symbol\":\"circle\"},\"mode\":\"markers\",\"name\":\"Massachusetts\",\"orientation\":\"v\",\"showlegend\":true,\"x\":[27.1],\"xaxis\":\"x\",\"y\":[541.1],\"yaxis\":\"y\",\"type\":\"scatter\"},{\"hovertemplate\":\"<b>%{hovertext}</b><br><br>state=Michigan<br>forcible_rape=%{x}<br>burglary=%{y}<br>population=%{marker.size}<extra></extra>\",\"hovertext\":[\"Michigan\"],\"legendgroup\":\"Michigan\",\"marker\":{\"color\":\"#00cc96\",\"size\":[10090554],\"sizemode\":\"area\",\"sizeref\":5593.00859375,\"symbol\":\"circle\"},\"mode\":\"markers\",\"name\":\"Michigan\",\"orientation\":\"v\",\"showlegend\":true,\"x\":[51.3],\"xaxis\":\"x\",\"y\":[696.8],\"yaxis\":\"y\",\"type\":\"scatter\"},{\"hovertemplate\":\"<b>%{hovertext}</b><br><br>state=Minnesota<br>forcible_rape=%{x}<br>burglary=%{y}<br>population=%{marker.size}<extra></extra>\",\"hovertext\":[\"Minnesota\"],\"legendgroup\":\"Minnesota\",\"marker\":{\"color\":\"#ab63fa\",\"size\":[5106560],\"sizemode\":\"area\",\"sizeref\":5593.00859375,\"symbol\":\"circle\"},\"mode\":\"markers\",\"name\":\"Minnesota\",\"orientation\":\"v\",\"showlegend\":true,\"x\":[44.0],\"xaxis\":\"x\",\"y\":[578.9],\"yaxis\":\"y\",\"type\":\"scatter\"},{\"hovertemplate\":\"<b>%{hovertext}</b><br><br>state=Mississippi<br>forcible_rape=%{x}<br>burglary=%{y}<br>population=%{marker.size}<extra></extra>\",\"hovertext\":[\"Mississippi\"],\"legendgroup\":\"Mississippi\",\"marker\":{\"color\":\"#FFA15A\",\"size\":[2900116],\"sizemode\":\"area\",\"sizeref\":5593.00859375,\"symbol\":\"circle\"},\"mode\":\"markers\",\"name\":\"Mississippi\",\"orientation\":\"v\",\"showlegend\":true,\"x\":[39.3],\"xaxis\":\"x\",\"y\":[919.7],\"yaxis\":\"y\",\"type\":\"scatter\"},{\"hovertemplate\":\"<b>%{hovertext}</b><br><br>state=Missouri<br>forcible_rape=%{x}<br>burglary=%{y}<br>population=%{marker.size}<extra></extra>\",\"hovertext\":[\"Missouri\"],\"legendgroup\":\"Missouri\",\"marker\":{\"color\":\"#19d3f3\",\"size\":[5806639],\"sizemode\":\"area\",\"sizeref\":5593.00859375,\"symbol\":\"circle\"},\"mode\":\"markers\",\"name\":\"Missouri\",\"orientation\":\"v\",\"showlegend\":true,\"x\":[28.0],\"xaxis\":\"x\",\"y\":[738.3],\"yaxis\":\"y\",\"type\":\"scatter\"},{\"hovertemplate\":\"<b>%{hovertext}</b><br><br>state=Montana<br>forcible_rape=%{x}<br>burglary=%{y}<br>population=%{marker.size}<extra></extra>\",\"hovertext\":[\"Montana\"],\"legendgroup\":\"Montana\",\"marker\":{\"color\":\"#FF6692\",\"size\":[934801],\"sizemode\":\"area\",\"sizeref\":5593.00859375,\"symbol\":\"circle\"},\"mode\":\"markers\",\"name\":\"Montana\",\"orientation\":\"v\",\"showlegend\":true,\"x\":[32.2],\"xaxis\":\"x\",\"y\":[389.2],\"yaxis\":\"y\",\"type\":\"scatter\"},{\"hovertemplate\":\"<b>%{hovertext}</b><br><br>state=Nebraska<br>forcible_rape=%{x}<br>burglary=%{y}<br>population=%{marker.size}<extra></extra>\",\"hovertext\":[\"Nebraska\"],\"legendgroup\":\"Nebraska\",\"marker\":{\"color\":\"#B6E880\",\"size\":[1751721],\"sizemode\":\"area\",\"sizeref\":5593.00859375,\"symbol\":\"circle\"},\"mode\":\"markers\",\"name\":\"Nebraska\",\"orientation\":\"v\",\"showlegend\":true,\"x\":[32.9],\"xaxis\":\"x\",\"y\":[532.4],\"yaxis\":\"y\",\"type\":\"scatter\"},{\"hovertemplate\":\"<b>%{hovertext}</b><br><br>state=Nevada<br>forcible_rape=%{x}<br>burglary=%{y}<br>population=%{marker.size}<extra></extra>\",\"hovertext\":[\"Nevada\"],\"legendgroup\":\"Nevada\",\"marker\":{\"color\":\"#FF97FF\",\"size\":[2408804],\"sizemode\":\"area\",\"sizeref\":5593.00859375,\"symbol\":\"circle\"},\"mode\":\"markers\",\"name\":\"Nevada\",\"orientation\":\"v\",\"showlegend\":true,\"x\":[42.1],\"xaxis\":\"x\",\"y\":[972.4],\"yaxis\":\"y\",\"type\":\"scatter\"},{\"hovertemplate\":\"<b>%{hovertext}</b><br><br>state=New Hampshire<br>forcible_rape=%{x}<br>burglary=%{y}<br>population=%{marker.size}<extra></extra>\",\"hovertext\":[\"New Hampshire\"],\"legendgroup\":\"New Hampshire\",\"marker\":{\"color\":\"#FECB52\",\"size\":[1301415],\"sizemode\":\"area\",\"sizeref\":5593.00859375,\"symbol\":\"circle\"},\"mode\":\"markers\",\"name\":\"New Hampshire\",\"orientation\":\"v\",\"showlegend\":true,\"x\":[30.9],\"xaxis\":\"x\",\"y\":[317.0],\"yaxis\":\"y\",\"type\":\"scatter\"},{\"hovertemplate\":\"<b>%{hovertext}</b><br><br>state=New Jersey<br>forcible_rape=%{x}<br>burglary=%{y}<br>population=%{marker.size}<extra></extra>\",\"hovertext\":[\"New Jersey\"],\"legendgroup\":\"New Jersey\",\"marker\":{\"color\":\"#636efa\",\"size\":[8621837],\"sizemode\":\"area\",\"sizeref\":5593.00859375,\"symbol\":\"circle\"},\"mode\":\"markers\",\"name\":\"New Jersey\",\"orientation\":\"v\",\"showlegend\":true,\"x\":[13.9],\"xaxis\":\"x\",\"y\":[447.1],\"yaxis\":\"y\",\"type\":\"scatter\"},{\"hovertemplate\":\"<b>%{hovertext}</b><br><br>state=New Mexico<br>forcible_rape=%{x}<br>burglary=%{y}<br>population=%{marker.size}<extra></extra>\",\"hovertext\":[\"New Mexico\"],\"legendgroup\":\"New Mexico\",\"marker\":{\"color\":\"#EF553B\",\"size\":[1916538],\"sizemode\":\"area\",\"sizeref\":5593.00859375,\"symbol\":\"circle\"},\"mode\":\"markers\",\"name\":\"New Mexico\",\"orientation\":\"v\",\"showlegend\":true,\"x\":[54.1],\"xaxis\":\"x\",\"y\":[1093.9],\"yaxis\":\"y\",\"type\":\"scatter\"},{\"hovertemplate\":\"<b>%{hovertext}</b><br><br>state=New York<br>forcible_rape=%{x}<br>burglary=%{y}<br>population=%{marker.size}<extra></extra>\",\"hovertext\":[\"New York\"],\"legendgroup\":\"New York\",\"marker\":{\"color\":\"#00cc96\",\"size\":[19330891],\"sizemode\":\"area\",\"sizeref\":5593.00859375,\"symbol\":\"circle\"},\"mode\":\"markers\",\"name\":\"New York\",\"orientation\":\"v\",\"showlegend\":true,\"x\":[18.9],\"xaxis\":\"x\",\"y\":[353.3],\"yaxis\":\"y\",\"type\":\"scatter\"},{\"hovertemplate\":\"<b>%{hovertext}</b><br><br>state=North Carolina<br>forcible_rape=%{x}<br>burglary=%{y}<br>population=%{marker.size}<extra></extra>\",\"hovertext\":[\"North Carolina\"],\"legendgroup\":\"North Carolina\",\"marker\":{\"color\":\"#ab63fa\",\"size\":[8669452],\"sizemode\":\"area\",\"sizeref\":5593.00859375,\"symbol\":\"circle\"},\"mode\":\"markers\",\"name\":\"North Carolina\",\"orientation\":\"v\",\"showlegend\":true,\"x\":[26.5],\"xaxis\":\"x\",\"y\":[1201.1],\"yaxis\":\"y\",\"type\":\"scatter\"},{\"hovertemplate\":\"<b>%{hovertext}</b><br><br>state=North Dakota<br>forcible_rape=%{x}<br>burglary=%{y}<br>population=%{marker.size}<extra></extra>\",\"hovertext\":[\"North Dakota\"],\"legendgroup\":\"North Dakota\",\"marker\":{\"color\":\"#FFA15A\",\"size\":[635365],\"sizemode\":\"area\",\"sizeref\":5593.00859375,\"symbol\":\"circle\"},\"mode\":\"markers\",\"name\":\"North Dakota\",\"orientation\":\"v\",\"showlegend\":true,\"x\":[24.2],\"xaxis\":\"x\",\"y\":[311.9],\"yaxis\":\"y\",\"type\":\"scatter\"},{\"hovertemplate\":\"<b>%{hovertext}</b><br><br>state=Ohio<br>forcible_rape=%{x}<br>burglary=%{y}<br>population=%{marker.size}<extra></extra>\",\"hovertext\":[\"Ohio\"],\"legendgroup\":\"Ohio\",\"marker\":{\"color\":\"#19d3f3\",\"size\":[11475262],\"sizemode\":\"area\",\"sizeref\":5593.00859375,\"symbol\":\"circle\"},\"mode\":\"markers\",\"name\":\"Ohio\",\"orientation\":\"v\",\"showlegend\":true,\"x\":[39.8],\"xaxis\":\"x\",\"y\":[872.8],\"yaxis\":\"y\",\"type\":\"scatter\"},{\"hovertemplate\":\"<b>%{hovertext}</b><br><br>state=Oklahoma<br>forcible_rape=%{x}<br>burglary=%{y}<br>population=%{marker.size}<extra></extra>\",\"hovertext\":[\"Oklahoma\"],\"legendgroup\":\"Oklahoma\",\"marker\":{\"color\":\"#FF6692\",\"size\":[3532769],\"sizemode\":\"area\",\"sizeref\":5593.00859375,\"symbol\":\"circle\"},\"mode\":\"markers\",\"name\":\"Oklahoma\",\"orientation\":\"v\",\"showlegend\":true,\"x\":[41.7],\"xaxis\":\"x\",\"y\":[1006.0],\"yaxis\":\"y\",\"type\":\"scatter\"},{\"hovertemplate\":\"<b>%{hovertext}</b><br><br>state=Oregon<br>forcible_rape=%{x}<br>burglary=%{y}<br>population=%{marker.size}<extra></extra>\",\"hovertext\":[\"Oregon\"],\"legendgroup\":\"Oregon\",\"marker\":{\"color\":\"#B6E880\",\"size\":[3617869],\"sizemode\":\"area\",\"sizeref\":5593.00859375,\"symbol\":\"circle\"},\"mode\":\"markers\",\"name\":\"Oregon\",\"orientation\":\"v\",\"showlegend\":true,\"x\":[34.8],\"xaxis\":\"x\",\"y\":[758.6],\"yaxis\":\"y\",\"type\":\"scatter\"},{\"hovertemplate\":\"<b>%{hovertext}</b><br><br>state=Pennsylvania<br>forcible_rape=%{x}<br>burglary=%{y}<br>population=%{marker.size}<extra></extra>\",\"hovertext\":[\"Pennsylvania\"],\"legendgroup\":\"Pennsylvania\",\"marker\":{\"color\":\"#FF97FF\",\"size\":[12418161],\"sizemode\":\"area\",\"sizeref\":5593.00859375,\"symbol\":\"circle\"},\"mode\":\"markers\",\"name\":\"Pennsylvania\",\"orientation\":\"v\",\"showlegend\":true,\"x\":[28.9],\"xaxis\":\"x\",\"y\":[451.6],\"yaxis\":\"y\",\"type\":\"scatter\"},{\"hovertemplate\":\"<b>%{hovertext}</b><br><br>state=Rhode Island<br>forcible_rape=%{x}<br>burglary=%{y}<br>population=%{marker.size}<extra></extra>\",\"hovertext\":[\"Rhode Island\"],\"legendgroup\":\"Rhode Island\",\"marker\":{\"color\":\"#FECB52\",\"size\":[1064989],\"sizemode\":\"area\",\"sizeref\":5593.00859375,\"symbol\":\"circle\"},\"mode\":\"markers\",\"name\":\"Rhode Island\",\"orientation\":\"v\",\"showlegend\":true,\"x\":[29.8],\"xaxis\":\"x\",\"y\":[494.2],\"yaxis\":\"y\",\"type\":\"scatter\"},{\"hovertemplate\":\"<b>%{hovertext}</b><br><br>state=South Carolina<br>forcible_rape=%{x}<br>burglary=%{y}<br>population=%{marker.size}<extra></extra>\",\"hovertext\":[\"South Carolina\"],\"legendgroup\":\"South Carolina\",\"marker\":{\"color\":\"#636efa\",\"size\":[4256199],\"sizemode\":\"area\",\"sizeref\":5593.00859375,\"symbol\":\"circle\"},\"mode\":\"markers\",\"name\":\"South Carolina\",\"orientation\":\"v\",\"showlegend\":true,\"x\":[42.5],\"xaxis\":\"x\",\"y\":[1000.9],\"yaxis\":\"y\",\"type\":\"scatter\"},{\"hovertemplate\":\"<b>%{hovertext}</b><br><br>state=South Dakota<br>forcible_rape=%{x}<br>burglary=%{y}<br>population=%{marker.size}<extra></extra>\",\"hovertext\":[\"South Dakota\"],\"legendgroup\":\"South Dakota\",\"marker\":{\"color\":\"#EF553B\",\"size\":[780084],\"sizemode\":\"area\",\"sizeref\":5593.00859375,\"symbol\":\"circle\"},\"mode\":\"markers\",\"name\":\"South Dakota\",\"orientation\":\"v\",\"showlegend\":true,\"x\":[46.7],\"xaxis\":\"x\",\"y\":[324.4],\"yaxis\":\"y\",\"type\":\"scatter\"},{\"hovertemplate\":\"<b>%{hovertext}</b><br><br>state=Tennessee<br>forcible_rape=%{x}<br>burglary=%{y}<br>population=%{marker.size}<extra></extra>\",\"hovertext\":[\"Tennessee\"],\"legendgroup\":\"Tennessee\",\"marker\":{\"color\":\"#00cc96\",\"size\":[5995748],\"sizemode\":\"area\",\"sizeref\":5593.00859375,\"symbol\":\"circle\"},\"mode\":\"markers\",\"name\":\"Tennessee\",\"orientation\":\"v\",\"showlegend\":true,\"x\":[36.4],\"xaxis\":\"x\",\"y\":[1026.9],\"yaxis\":\"y\",\"type\":\"scatter\"},{\"hovertemplate\":\"<b>%{hovertext}</b><br><br>state=Texas<br>forcible_rape=%{x}<br>burglary=%{y}<br>population=%{marker.size}<extra></extra>\",\"hovertext\":[\"Texas\"],\"legendgroup\":\"Texas\",\"marker\":{\"color\":\"#ab63fa\",\"size\":[22801920],\"sizemode\":\"area\",\"sizeref\":5593.00859375,\"symbol\":\"circle\"},\"mode\":\"markers\",\"name\":\"Texas\",\"orientation\":\"v\",\"showlegend\":true,\"x\":[37.2],\"xaxis\":\"x\",\"y\":[961.6],\"yaxis\":\"y\",\"type\":\"scatter\"},{\"hovertemplate\":\"<b>%{hovertext}</b><br><br>state=Utah<br>forcible_rape=%{x}<br>burglary=%{y}<br>population=%{marker.size}<extra></extra>\",\"hovertext\":[\"Utah\"],\"legendgroup\":\"Utah\",\"marker\":{\"color\":\"#FFA15A\",\"size\":[2499637],\"sizemode\":\"area\",\"sizeref\":5593.00859375,\"symbol\":\"circle\"},\"mode\":\"markers\",\"name\":\"Utah\",\"orientation\":\"v\",\"showlegend\":true,\"x\":[37.3],\"xaxis\":\"x\",\"y\":[606.2],\"yaxis\":\"y\",\"type\":\"scatter\"},{\"hovertemplate\":\"<b>%{hovertext}</b><br><br>state=Vermont<br>forcible_rape=%{x}<br>burglary=%{y}<br>population=%{marker.size}<extra></extra>\",\"hovertext\":[\"Vermont\"],\"legendgroup\":\"Vermont\",\"marker\":{\"color\":\"#19d3f3\",\"size\":[618814],\"sizemode\":\"area\",\"sizeref\":5593.00859375,\"symbol\":\"circle\"},\"mode\":\"markers\",\"name\":\"Vermont\",\"orientation\":\"v\",\"showlegend\":true,\"x\":[23.3],\"xaxis\":\"x\",\"y\":[491.8],\"yaxis\":\"y\",\"type\":\"scatter\"},{\"hovertemplate\":\"<b>%{hovertext}</b><br><br>state=Virginia<br>forcible_rape=%{x}<br>burglary=%{y}<br>population=%{marker.size}<extra></extra>\",\"hovertext\":[\"Virginia\"],\"legendgroup\":\"Virginia\",\"marker\":{\"color\":\"#FF6692\",\"size\":[7563887],\"sizemode\":\"area\",\"sizeref\":5593.00859375,\"symbol\":\"circle\"},\"mode\":\"markers\",\"name\":\"Virginia\",\"orientation\":\"v\",\"showlegend\":true,\"x\":[22.7],\"xaxis\":\"x\",\"y\":[392.1],\"yaxis\":\"y\",\"type\":\"scatter\"},{\"hovertemplate\":\"<b>%{hovertext}</b><br><br>state=Washington<br>forcible_rape=%{x}<br>burglary=%{y}<br>population=%{marker.size}<extra></extra>\",\"hovertext\":[\"Washington\"],\"legendgroup\":\"Washington\",\"marker\":{\"color\":\"#B6E880\",\"size\":[6261282],\"sizemode\":\"area\",\"sizeref\":5593.00859375,\"symbol\":\"circle\"},\"mode\":\"markers\",\"name\":\"Washington\",\"orientation\":\"v\",\"showlegend\":true,\"x\":[44.7],\"xaxis\":\"x\",\"y\":[959.7],\"yaxis\":\"y\",\"type\":\"scatter\"},{\"hovertemplate\":\"<b>%{hovertext}</b><br><br>state=West Virginia<br>forcible_rape=%{x}<br>burglary=%{y}<br>population=%{marker.size}<extra></extra>\",\"hovertext\":[\"West Virginia\"],\"legendgroup\":\"West Virginia\",\"marker\":{\"color\":\"#FF97FF\",\"size\":[1803920],\"sizemode\":\"area\",\"sizeref\":5593.00859375,\"symbol\":\"circle\"},\"mode\":\"markers\",\"name\":\"West Virginia\",\"orientation\":\"v\",\"showlegend\":true,\"x\":[17.7],\"xaxis\":\"x\",\"y\":[621.2],\"yaxis\":\"y\",\"type\":\"scatter\"},{\"hovertemplate\":\"<b>%{hovertext}</b><br><br>state=Wisconsin<br>forcible_rape=%{x}<br>burglary=%{y}<br>population=%{marker.size}<extra></extra>\",\"hovertext\":[\"Wisconsin\"],\"legendgroup\":\"Wisconsin\",\"marker\":{\"color\":\"#FECB52\",\"size\":[5541443],\"sizemode\":\"area\",\"sizeref\":5593.00859375,\"symbol\":\"circle\"},\"mode\":\"markers\",\"name\":\"Wisconsin\",\"orientation\":\"v\",\"showlegend\":true,\"x\":[20.6],\"xaxis\":\"x\",\"y\":[440.8],\"yaxis\":\"y\",\"type\":\"scatter\"},{\"hovertemplate\":\"<b>%{hovertext}</b><br><br>state=Wyoming<br>forcible_rape=%{x}<br>burglary=%{y}<br>population=%{marker.size}<extra></extra>\",\"hovertext\":[\"Wyoming\"],\"legendgroup\":\"Wyoming\",\"marker\":{\"color\":\"#636efa\",\"size\":[506242],\"sizemode\":\"area\",\"sizeref\":5593.00859375,\"symbol\":\"circle\"},\"mode\":\"markers\",\"name\":\"Wyoming\",\"orientation\":\"v\",\"showlegend\":true,\"x\":[24.0],\"xaxis\":\"x\",\"y\":[476.3],\"yaxis\":\"y\",\"type\":\"scatter\"}],                        {\"template\":{\"data\":{\"bar\":[{\"error_x\":{\"color\":\"#2a3f5f\"},\"error_y\":{\"color\":\"#2a3f5f\"},\"marker\":{\"line\":{\"color\":\"#E5ECF6\",\"width\":0.5},\"pattern\":{\"fillmode\":\"overlay\",\"size\":10,\"solidity\":0.2}},\"type\":\"bar\"}],\"barpolar\":[{\"marker\":{\"line\":{\"color\":\"#E5ECF6\",\"width\":0.5},\"pattern\":{\"fillmode\":\"overlay\",\"size\":10,\"solidity\":0.2}},\"type\":\"barpolar\"}],\"carpet\":[{\"aaxis\":{\"endlinecolor\":\"#2a3f5f\",\"gridcolor\":\"white\",\"linecolor\":\"white\",\"minorgridcolor\":\"white\",\"startlinecolor\":\"#2a3f5f\"},\"baxis\":{\"endlinecolor\":\"#2a3f5f\",\"gridcolor\":\"white\",\"linecolor\":\"white\",\"minorgridcolor\":\"white\",\"startlinecolor\":\"#2a3f5f\"},\"type\":\"carpet\"}],\"choropleth\":[{\"colorbar\":{\"outlinewidth\":0,\"ticks\":\"\"},\"type\":\"choropleth\"}],\"contour\":[{\"colorbar\":{\"outlinewidth\":0,\"ticks\":\"\"},\"colorscale\":[[0.0,\"#0d0887\"],[0.1111111111111111,\"#46039f\"],[0.2222222222222222,\"#7201a8\"],[0.3333333333333333,\"#9c179e\"],[0.4444444444444444,\"#bd3786\"],[0.5555555555555556,\"#d8576b\"],[0.6666666666666666,\"#ed7953\"],[0.7777777777777778,\"#fb9f3a\"],[0.8888888888888888,\"#fdca26\"],[1.0,\"#f0f921\"]],\"type\":\"contour\"}],\"contourcarpet\":[{\"colorbar\":{\"outlinewidth\":0,\"ticks\":\"\"},\"type\":\"contourcarpet\"}],\"heatmap\":[{\"colorbar\":{\"outlinewidth\":0,\"ticks\":\"\"},\"colorscale\":[[0.0,\"#0d0887\"],[0.1111111111111111,\"#46039f\"],[0.2222222222222222,\"#7201a8\"],[0.3333333333333333,\"#9c179e\"],[0.4444444444444444,\"#bd3786\"],[0.5555555555555556,\"#d8576b\"],[0.6666666666666666,\"#ed7953\"],[0.7777777777777778,\"#fb9f3a\"],[0.8888888888888888,\"#fdca26\"],[1.0,\"#f0f921\"]],\"type\":\"heatmap\"}],\"heatmapgl\":[{\"colorbar\":{\"outlinewidth\":0,\"ticks\":\"\"},\"colorscale\":[[0.0,\"#0d0887\"],[0.1111111111111111,\"#46039f\"],[0.2222222222222222,\"#7201a8\"],[0.3333333333333333,\"#9c179e\"],[0.4444444444444444,\"#bd3786\"],[0.5555555555555556,\"#d8576b\"],[0.6666666666666666,\"#ed7953\"],[0.7777777777777778,\"#fb9f3a\"],[0.8888888888888888,\"#fdca26\"],[1.0,\"#f0f921\"]],\"type\":\"heatmapgl\"}],\"histogram\":[{\"marker\":{\"pattern\":{\"fillmode\":\"overlay\",\"size\":10,\"solidity\":0.2}},\"type\":\"histogram\"}],\"histogram2d\":[{\"colorbar\":{\"outlinewidth\":0,\"ticks\":\"\"},\"colorscale\":[[0.0,\"#0d0887\"],[0.1111111111111111,\"#46039f\"],[0.2222222222222222,\"#7201a8\"],[0.3333333333333333,\"#9c179e\"],[0.4444444444444444,\"#bd3786\"],[0.5555555555555556,\"#d8576b\"],[0.6666666666666666,\"#ed7953\"],[0.7777777777777778,\"#fb9f3a\"],[0.8888888888888888,\"#fdca26\"],[1.0,\"#f0f921\"]],\"type\":\"histogram2d\"}],\"histogram2dcontour\":[{\"colorbar\":{\"outlinewidth\":0,\"ticks\":\"\"},\"colorscale\":[[0.0,\"#0d0887\"],[0.1111111111111111,\"#46039f\"],[0.2222222222222222,\"#7201a8\"],[0.3333333333333333,\"#9c179e\"],[0.4444444444444444,\"#bd3786\"],[0.5555555555555556,\"#d8576b\"],[0.6666666666666666,\"#ed7953\"],[0.7777777777777778,\"#fb9f3a\"],[0.8888888888888888,\"#fdca26\"],[1.0,\"#f0f921\"]],\"type\":\"histogram2dcontour\"}],\"mesh3d\":[{\"colorbar\":{\"outlinewidth\":0,\"ticks\":\"\"},\"type\":\"mesh3d\"}],\"parcoords\":[{\"line\":{\"colorbar\":{\"outlinewidth\":0,\"ticks\":\"\"}},\"type\":\"parcoords\"}],\"pie\":[{\"automargin\":true,\"type\":\"pie\"}],\"scatter\":[{\"marker\":{\"colorbar\":{\"outlinewidth\":0,\"ticks\":\"\"}},\"type\":\"scatter\"}],\"scatter3d\":[{\"line\":{\"colorbar\":{\"outlinewidth\":0,\"ticks\":\"\"}},\"marker\":{\"colorbar\":{\"outlinewidth\":0,\"ticks\":\"\"}},\"type\":\"scatter3d\"}],\"scattercarpet\":[{\"marker\":{\"colorbar\":{\"outlinewidth\":0,\"ticks\":\"\"}},\"type\":\"scattercarpet\"}],\"scattergeo\":[{\"marker\":{\"colorbar\":{\"outlinewidth\":0,\"ticks\":\"\"}},\"type\":\"scattergeo\"}],\"scattergl\":[{\"marker\":{\"colorbar\":{\"outlinewidth\":0,\"ticks\":\"\"}},\"type\":\"scattergl\"}],\"scattermapbox\":[{\"marker\":{\"colorbar\":{\"outlinewidth\":0,\"ticks\":\"\"}},\"type\":\"scattermapbox\"}],\"scatterpolar\":[{\"marker\":{\"colorbar\":{\"outlinewidth\":0,\"ticks\":\"\"}},\"type\":\"scatterpolar\"}],\"scatterpolargl\":[{\"marker\":{\"colorbar\":{\"outlinewidth\":0,\"ticks\":\"\"}},\"type\":\"scatterpolargl\"}],\"scatterternary\":[{\"marker\":{\"colorbar\":{\"outlinewidth\":0,\"ticks\":\"\"}},\"type\":\"scatterternary\"}],\"surface\":[{\"colorbar\":{\"outlinewidth\":0,\"ticks\":\"\"},\"colorscale\":[[0.0,\"#0d0887\"],[0.1111111111111111,\"#46039f\"],[0.2222222222222222,\"#7201a8\"],[0.3333333333333333,\"#9c179e\"],[0.4444444444444444,\"#bd3786\"],[0.5555555555555556,\"#d8576b\"],[0.6666666666666666,\"#ed7953\"],[0.7777777777777778,\"#fb9f3a\"],[0.8888888888888888,\"#fdca26\"],[1.0,\"#f0f921\"]],\"type\":\"surface\"}],\"table\":[{\"cells\":{\"fill\":{\"color\":\"#EBF0F8\"},\"line\":{\"color\":\"white\"}},\"header\":{\"fill\":{\"color\":\"#C8D4E3\"},\"line\":{\"color\":\"white\"}},\"type\":\"table\"}]},\"layout\":{\"annotationdefaults\":{\"arrowcolor\":\"#2a3f5f\",\"arrowhead\":0,\"arrowwidth\":1},\"autotypenumbers\":\"strict\",\"coloraxis\":{\"colorbar\":{\"outlinewidth\":0,\"ticks\":\"\"}},\"colorscale\":{\"diverging\":[[0,\"#8e0152\"],[0.1,\"#c51b7d\"],[0.2,\"#de77ae\"],[0.3,\"#f1b6da\"],[0.4,\"#fde0ef\"],[0.5,\"#f7f7f7\"],[0.6,\"#e6f5d0\"],[0.7,\"#b8e186\"],[0.8,\"#7fbc41\"],[0.9,\"#4d9221\"],[1,\"#276419\"]],\"sequential\":[[0.0,\"#0d0887\"],[0.1111111111111111,\"#46039f\"],[0.2222222222222222,\"#7201a8\"],[0.3333333333333333,\"#9c179e\"],[0.4444444444444444,\"#bd3786\"],[0.5555555555555556,\"#d8576b\"],[0.6666666666666666,\"#ed7953\"],[0.7777777777777778,\"#fb9f3a\"],[0.8888888888888888,\"#fdca26\"],[1.0,\"#f0f921\"]],\"sequentialminus\":[[0.0,\"#0d0887\"],[0.1111111111111111,\"#46039f\"],[0.2222222222222222,\"#7201a8\"],[0.3333333333333333,\"#9c179e\"],[0.4444444444444444,\"#bd3786\"],[0.5555555555555556,\"#d8576b\"],[0.6666666666666666,\"#ed7953\"],[0.7777777777777778,\"#fb9f3a\"],[0.8888888888888888,\"#fdca26\"],[1.0,\"#f0f921\"]]},\"colorway\":[\"#636efa\",\"#EF553B\",\"#00cc96\",\"#ab63fa\",\"#FFA15A\",\"#19d3f3\",\"#FF6692\",\"#B6E880\",\"#FF97FF\",\"#FECB52\"],\"font\":{\"color\":\"#2a3f5f\"},\"geo\":{\"bgcolor\":\"white\",\"lakecolor\":\"white\",\"landcolor\":\"#E5ECF6\",\"showlakes\":true,\"showland\":true,\"subunitcolor\":\"white\"},\"hoverlabel\":{\"align\":\"left\"},\"hovermode\":\"closest\",\"mapbox\":{\"style\":\"light\"},\"paper_bgcolor\":\"white\",\"plot_bgcolor\":\"#E5ECF6\",\"polar\":{\"angularaxis\":{\"gridcolor\":\"white\",\"linecolor\":\"white\",\"ticks\":\"\"},\"bgcolor\":\"#E5ECF6\",\"radialaxis\":{\"gridcolor\":\"white\",\"linecolor\":\"white\",\"ticks\":\"\"}},\"scene\":{\"xaxis\":{\"backgroundcolor\":\"#E5ECF6\",\"gridcolor\":\"white\",\"gridwidth\":2,\"linecolor\":\"white\",\"showbackground\":true,\"ticks\":\"\",\"zerolinecolor\":\"white\"},\"yaxis\":{\"backgroundcolor\":\"#E5ECF6\",\"gridcolor\":\"white\",\"gridwidth\":2,\"linecolor\":\"white\",\"showbackground\":true,\"ticks\":\"\",\"zerolinecolor\":\"white\"},\"zaxis\":{\"backgroundcolor\":\"#E5ECF6\",\"gridcolor\":\"white\",\"gridwidth\":2,\"linecolor\":\"white\",\"showbackground\":true,\"ticks\":\"\",\"zerolinecolor\":\"white\"}},\"shapedefaults\":{\"line\":{\"color\":\"#2a3f5f\"}},\"ternary\":{\"aaxis\":{\"gridcolor\":\"white\",\"linecolor\":\"white\",\"ticks\":\"\"},\"baxis\":{\"gridcolor\":\"white\",\"linecolor\":\"white\",\"ticks\":\"\"},\"bgcolor\":\"#E5ECF6\",\"caxis\":{\"gridcolor\":\"white\",\"linecolor\":\"white\",\"ticks\":\"\"}},\"title\":{\"x\":0.05},\"xaxis\":{\"automargin\":true,\"gridcolor\":\"white\",\"linecolor\":\"white\",\"ticks\":\"\",\"title\":{\"standoff\":15},\"zerolinecolor\":\"white\",\"zerolinewidth\":2},\"yaxis\":{\"automargin\":true,\"gridcolor\":\"white\",\"linecolor\":\"white\",\"ticks\":\"\",\"title\":{\"standoff\":15},\"zerolinecolor\":\"white\",\"zerolinewidth\":2}}},\"xaxis\":{\"anchor\":\"y\",\"domain\":[0.0,1.0],\"title\":{\"text\":\"forcible_rape\"},\"type\":\"log\"},\"yaxis\":{\"anchor\":\"x\",\"domain\":[0.0,1.0],\"title\":{\"text\":\"burglary\"}},\"legend\":{\"title\":{\"text\":\"state\"},\"tracegroupgap\":0,\"itemsizing\":\"constant\"},\"margin\":{\"t\":60}},                        {\"responsive\": true}                    ).then(function(){\n",
       "                            \n",
       "var gd = document.getElementById('d8b12a31-ed54-4427-8e85-ac4165a4fb96');\n",
       "var x = new MutationObserver(function (mutations, observer) {{\n",
       "        var display = window.getComputedStyle(gd).display;\n",
       "        if (!display || display === 'none') {{\n",
       "            console.log([gd, 'removed!']);\n",
       "            Plotly.purge(gd);\n",
       "            observer.disconnect();\n",
       "        }}\n",
       "}});\n",
       "\n",
       "// Listen for the removal of the full notebook cells\n",
       "var notebookContainer = gd.closest('#notebook-container');\n",
       "if (notebookContainer) {{\n",
       "    x.observe(notebookContainer, {childList: true});\n",
       "}}\n",
       "\n",
       "// Listen for the clearing of the current output cell\n",
       "var outputEl = gd.closest('.output');\n",
       "if (outputEl) {{\n",
       "    x.observe(outputEl, {childList: true});\n",
       "}}\n",
       "\n",
       "                        })                };                });            </script>        </div>"
      ]
     },
     "metadata": {},
     "output_type": "display_data"
    }
   ],
   "source": [
    "fig = px.scatter(crimerates_by_state_df, x=\"forcible_rape\", y=\"burglary\", color='state', size=\"population\", hover_name=\"state\", log_x=True, size_max=80)\n",
    "fig.show()"
   ]
  },
  {
   "cell_type": "markdown",
   "id": "dbbe81d6",
   "metadata": {},
   "source": [
    "# Scatter plot"
   ]
  },
  {
   "cell_type": "code",
   "execution_count": 39,
   "id": "60f00cd1",
   "metadata": {},
   "outputs": [
    {
     "data": {
      "image/png": "[encoded data removed]",
      "text/plain": [
       "<Figure size 432x288 with 1 Axes>"
      ]
     },
     "metadata": {
      "needs_background": "light"
     },
     "output_type": "display_data"
    }
   ],
   "source": [
    "plt.scatter(x=crimerates_by_state_df['murder'], y=crimerates_by_state_df['robbery'],alpha=0.5)\n",
    "plt.title('Correlation between robbery and murder')\n",
    "plt.xlabel('Murder')\n",
    "plt.ylabel('Robbery')\n",
    "plt.show()\n"
   ]
  },
  {
   "cell_type": "code",
   "execution_count": null,
   "id": "13843d63",
   "metadata": {},
   "outputs": [],
   "source": []
  }
 ],
 "metadata": {
  "kernelspec": {
   "display_name": "Python 3 (ipykernel)",
   "language": "python",
   "name": "python3"
  },
  "language_info": {
   "codemirror_mode": {
    "name": "ipython",
    "version": 3
   },
   "file_extension": ".py",
   "mimetype": "text/x-python",
   "name": "python",
   "nbconvert_exporter": "python",
   "pygments_lexer": "ipython3",
   "version": "3.9.6"
  }
 },
 "nbformat": 4,
 "nbformat_minor": 5
}
